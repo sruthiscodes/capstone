{
  "cells": [
    {
      "cell_type": "markdown",
      "metadata": {
        "id": "view-in-github",
        "colab_type": "text"
      },
      "source": [
        "<a href=\"https://colab.research.google.com/github/sruthiscodes/capstone/blob/residual/working.ipynb\" target=\"_parent\"><img src=\"https://colab.research.google.com/assets/colab-badge.svg\" alt=\"Open In Colab\"/></a>"
      ]
    },
    {
      "cell_type": "markdown",
      "metadata": {
        "id": "L1N3tC12THk6"
      },
      "source": [
        "#Feature extraction and preprocessing"
      ]
    },
    {
      "cell_type": "code",
      "execution_count": null,
      "metadata": {
        "colab": {
          "base_uri": "https://localhost:8080/"
        },
        "id": "Wh4nlAXt6AEz",
        "outputId": "56b13d96-58da-49b2-bed0-ebd80ccdfbf5"
      },
      "outputs": [
        {
          "output_type": "stream",
          "name": "stdout",
          "text": [
            "Collecting mne\n",
            "  Downloading mne-1.9.0-py3-none-any.whl.metadata (20 kB)\n",
            "Requirement already satisfied: decorator in /usr/local/lib/python3.11/dist-packages (from mne) (4.4.2)\n",
            "Requirement already satisfied: jinja2 in /usr/local/lib/python3.11/dist-packages (from mne) (3.1.6)\n",
            "Requirement already satisfied: lazy-loader>=0.3 in /usr/local/lib/python3.11/dist-packages (from mne) (0.4)\n",
            "Requirement already satisfied: matplotlib>=3.6 in /usr/local/lib/python3.11/dist-packages (from mne) (3.10.0)\n",
            "Requirement already satisfied: numpy<3,>=1.23 in /usr/local/lib/python3.11/dist-packages (from mne) (2.0.2)\n",
            "Requirement already satisfied: packaging in /usr/local/lib/python3.11/dist-packages (from mne) (24.2)\n",
            "Requirement already satisfied: pooch>=1.5 in /usr/local/lib/python3.11/dist-packages (from mne) (1.8.2)\n",
            "Requirement already satisfied: scipy>=1.9 in /usr/local/lib/python3.11/dist-packages (from mne) (1.14.1)\n",
            "Requirement already satisfied: tqdm in /usr/local/lib/python3.11/dist-packages (from mne) (4.67.1)\n",
            "Requirement already satisfied: contourpy>=1.0.1 in /usr/local/lib/python3.11/dist-packages (from matplotlib>=3.6->mne) (1.3.2)\n",
            "Requirement already satisfied: cycler>=0.10 in /usr/local/lib/python3.11/dist-packages (from matplotlib>=3.6->mne) (0.12.1)\n",
            "Requirement already satisfied: fonttools>=4.22.0 in /usr/local/lib/python3.11/dist-packages (from matplotlib>=3.6->mne) (4.57.0)\n",
            "Requirement already satisfied: kiwisolver>=1.3.1 in /usr/local/lib/python3.11/dist-packages (from matplotlib>=3.6->mne) (1.4.8)\n",
            "Requirement already satisfied: pillow>=8 in /usr/local/lib/python3.11/dist-packages (from matplotlib>=3.6->mne) (11.1.0)\n",
            "Requirement already satisfied: pyparsing>=2.3.1 in /usr/local/lib/python3.11/dist-packages (from matplotlib>=3.6->mne) (3.2.3)\n",
            "Requirement already satisfied: python-dateutil>=2.7 in /usr/local/lib/python3.11/dist-packages (from matplotlib>=3.6->mne) (2.8.2)\n",
            "Requirement already satisfied: platformdirs>=2.5.0 in /usr/local/lib/python3.11/dist-packages (from pooch>=1.5->mne) (4.3.7)\n",
            "Requirement already satisfied: requests>=2.19.0 in /usr/local/lib/python3.11/dist-packages (from pooch>=1.5->mne) (2.32.3)\n",
            "Requirement already satisfied: MarkupSafe>=2.0 in /usr/local/lib/python3.11/dist-packages (from jinja2->mne) (3.0.2)\n",
            "Requirement already satisfied: six>=1.5 in /usr/local/lib/python3.11/dist-packages (from python-dateutil>=2.7->matplotlib>=3.6->mne) (1.17.0)\n",
            "Requirement already satisfied: charset-normalizer<4,>=2 in /usr/local/lib/python3.11/dist-packages (from requests>=2.19.0->pooch>=1.5->mne) (3.4.1)\n",
            "Requirement already satisfied: idna<4,>=2.5 in /usr/local/lib/python3.11/dist-packages (from requests>=2.19.0->pooch>=1.5->mne) (3.10)\n",
            "Requirement already satisfied: urllib3<3,>=1.21.1 in /usr/local/lib/python3.11/dist-packages (from requests>=2.19.0->pooch>=1.5->mne) (2.3.0)\n",
            "Requirement already satisfied: certifi>=2017.4.17 in /usr/local/lib/python3.11/dist-packages (from requests>=2.19.0->pooch>=1.5->mne) (2025.1.31)\n",
            "Downloading mne-1.9.0-py3-none-any.whl (7.4 MB)\n",
            "\u001b[2K   \u001b[90m━━━━━━━━━━━━━━━━━━━━━━━━━━━━━━━━━━━━━━━━\u001b[0m \u001b[32m7.4/7.4 MB\u001b[0m \u001b[31m37.0 MB/s\u001b[0m eta \u001b[36m0:00:00\u001b[0m\n",
            "\u001b[?25hInstalling collected packages: mne\n",
            "Successfully installed mne-1.9.0\n",
            "Collecting pywavelets\n",
            "  Downloading pywavelets-1.8.0-cp311-cp311-manylinux_2_17_x86_64.manylinux2014_x86_64.whl.metadata (9.0 kB)\n",
            "Requirement already satisfied: numpy<3,>=1.23 in /usr/local/lib/python3.11/dist-packages (from pywavelets) (2.0.2)\n",
            "Downloading pywavelets-1.8.0-cp311-cp311-manylinux_2_17_x86_64.manylinux2014_x86_64.whl (4.5 MB)\n",
            "\u001b[2K   \u001b[90m━━━━━━━━━━━━━━━━━━━━━━━━━━━━━━━━━━━━━━━━\u001b[0m \u001b[32m4.5/4.5 MB\u001b[0m \u001b[31m21.3 MB/s\u001b[0m eta \u001b[36m0:00:00\u001b[0m\n",
            "\u001b[?25hInstalling collected packages: pywavelets\n",
            "Successfully installed pywavelets-1.8.0\n",
            "Requirement already satisfied: matplotlib in /usr/local/lib/python3.11/dist-packages (3.10.0)\n",
            "Requirement already satisfied: contourpy>=1.0.1 in /usr/local/lib/python3.11/dist-packages (from matplotlib) (1.3.2)\n",
            "Requirement already satisfied: cycler>=0.10 in /usr/local/lib/python3.11/dist-packages (from matplotlib) (0.12.1)\n",
            "Requirement already satisfied: fonttools>=4.22.0 in /usr/local/lib/python3.11/dist-packages (from matplotlib) (4.57.0)\n",
            "Requirement already satisfied: kiwisolver>=1.3.1 in /usr/local/lib/python3.11/dist-packages (from matplotlib) (1.4.8)\n",
            "Requirement already satisfied: numpy>=1.23 in /usr/local/lib/python3.11/dist-packages (from matplotlib) (2.0.2)\n",
            "Requirement already satisfied: packaging>=20.0 in /usr/local/lib/python3.11/dist-packages (from matplotlib) (24.2)\n",
            "Requirement already satisfied: pillow>=8 in /usr/local/lib/python3.11/dist-packages (from matplotlib) (11.1.0)\n",
            "Requirement already satisfied: pyparsing>=2.3.1 in /usr/local/lib/python3.11/dist-packages (from matplotlib) (3.2.3)\n",
            "Requirement already satisfied: python-dateutil>=2.7 in /usr/local/lib/python3.11/dist-packages (from matplotlib) (2.8.2)\n",
            "Requirement already satisfied: six>=1.5 in /usr/local/lib/python3.11/dist-packages (from python-dateutil>=2.7->matplotlib) (1.17.0)\n",
            "Requirement already satisfied: numpy in /usr/local/lib/python3.11/dist-packages (2.0.2)\n",
            "Requirement already satisfied: pandas in /usr/local/lib/python3.11/dist-packages (2.2.2)\n",
            "Requirement already satisfied: numpy>=1.23.2 in /usr/local/lib/python3.11/dist-packages (from pandas) (2.0.2)\n",
            "Requirement already satisfied: python-dateutil>=2.8.2 in /usr/local/lib/python3.11/dist-packages (from pandas) (2.8.2)\n",
            "Requirement already satisfied: pytz>=2020.1 in /usr/local/lib/python3.11/dist-packages (from pandas) (2025.2)\n",
            "Requirement already satisfied: tzdata>=2022.7 in /usr/local/lib/python3.11/dist-packages (from pandas) (2025.2)\n",
            "Requirement already satisfied: six>=1.5 in /usr/local/lib/python3.11/dist-packages (from python-dateutil>=2.8.2->pandas) (1.17.0)\n",
            "Requirement already satisfied: tensorflow in /usr/local/lib/python3.11/dist-packages (2.18.0)\n",
            "Requirement already satisfied: absl-py>=1.0.0 in /usr/local/lib/python3.11/dist-packages (from tensorflow) (1.4.0)\n",
            "Requirement already satisfied: astunparse>=1.6.0 in /usr/local/lib/python3.11/dist-packages (from tensorflow) (1.6.3)\n",
            "Requirement already satisfied: flatbuffers>=24.3.25 in /usr/local/lib/python3.11/dist-packages (from tensorflow) (25.2.10)\n",
            "Requirement already satisfied: gast!=0.5.0,!=0.5.1,!=0.5.2,>=0.2.1 in /usr/local/lib/python3.11/dist-packages (from tensorflow) (0.6.0)\n",
            "Requirement already satisfied: google-pasta>=0.1.1 in /usr/local/lib/python3.11/dist-packages (from tensorflow) (0.2.0)\n",
            "Requirement already satisfied: libclang>=13.0.0 in /usr/local/lib/python3.11/dist-packages (from tensorflow) (18.1.1)\n",
            "Requirement already satisfied: opt-einsum>=2.3.2 in /usr/local/lib/python3.11/dist-packages (from tensorflow) (3.4.0)\n",
            "Requirement already satisfied: packaging in /usr/local/lib/python3.11/dist-packages (from tensorflow) (24.2)\n",
            "Requirement already satisfied: protobuf!=4.21.0,!=4.21.1,!=4.21.2,!=4.21.3,!=4.21.4,!=4.21.5,<6.0.0dev,>=3.20.3 in /usr/local/lib/python3.11/dist-packages (from tensorflow) (5.29.4)\n",
            "Requirement already satisfied: requests<3,>=2.21.0 in /usr/local/lib/python3.11/dist-packages (from tensorflow) (2.32.3)\n",
            "Requirement already satisfied: setuptools in /usr/local/lib/python3.11/dist-packages (from tensorflow) (75.2.0)\n",
            "Requirement already satisfied: six>=1.12.0 in /usr/local/lib/python3.11/dist-packages (from tensorflow) (1.17.0)\n",
            "Requirement already satisfied: termcolor>=1.1.0 in /usr/local/lib/python3.11/dist-packages (from tensorflow) (3.0.1)\n",
            "Requirement already satisfied: typing-extensions>=3.6.6 in /usr/local/lib/python3.11/dist-packages (from tensorflow) (4.13.2)\n",
            "Requirement already satisfied: wrapt>=1.11.0 in /usr/local/lib/python3.11/dist-packages (from tensorflow) (1.17.2)\n",
            "Requirement already satisfied: grpcio<2.0,>=1.24.3 in /usr/local/lib/python3.11/dist-packages (from tensorflow) (1.71.0)\n",
            "Requirement already satisfied: tensorboard<2.19,>=2.18 in /usr/local/lib/python3.11/dist-packages (from tensorflow) (2.18.0)\n",
            "Requirement already satisfied: keras>=3.5.0 in /usr/local/lib/python3.11/dist-packages (from tensorflow) (3.8.0)\n",
            "Requirement already satisfied: numpy<2.1.0,>=1.26.0 in /usr/local/lib/python3.11/dist-packages (from tensorflow) (2.0.2)\n",
            "Requirement already satisfied: h5py>=3.11.0 in /usr/local/lib/python3.11/dist-packages (from tensorflow) (3.13.0)\n",
            "Requirement already satisfied: ml-dtypes<0.5.0,>=0.4.0 in /usr/local/lib/python3.11/dist-packages (from tensorflow) (0.4.1)\n",
            "Requirement already satisfied: tensorflow-io-gcs-filesystem>=0.23.1 in /usr/local/lib/python3.11/dist-packages (from tensorflow) (0.37.1)\n",
            "Requirement already satisfied: wheel<1.0,>=0.23.0 in /usr/local/lib/python3.11/dist-packages (from astunparse>=1.6.0->tensorflow) (0.45.1)\n",
            "Requirement already satisfied: rich in /usr/local/lib/python3.11/dist-packages (from keras>=3.5.0->tensorflow) (13.9.4)\n",
            "Requirement already satisfied: namex in /usr/local/lib/python3.11/dist-packages (from keras>=3.5.0->tensorflow) (0.0.8)\n",
            "Requirement already satisfied: optree in /usr/local/lib/python3.11/dist-packages (from keras>=3.5.0->tensorflow) (0.15.0)\n",
            "Requirement already satisfied: charset-normalizer<4,>=2 in /usr/local/lib/python3.11/dist-packages (from requests<3,>=2.21.0->tensorflow) (3.4.1)\n",
            "Requirement already satisfied: idna<4,>=2.5 in /usr/local/lib/python3.11/dist-packages (from requests<3,>=2.21.0->tensorflow) (3.10)\n",
            "Requirement already satisfied: urllib3<3,>=1.21.1 in /usr/local/lib/python3.11/dist-packages (from requests<3,>=2.21.0->tensorflow) (2.3.0)\n",
            "Requirement already satisfied: certifi>=2017.4.17 in /usr/local/lib/python3.11/dist-packages (from requests<3,>=2.21.0->tensorflow) (2025.1.31)\n",
            "Requirement already satisfied: markdown>=2.6.8 in /usr/local/lib/python3.11/dist-packages (from tensorboard<2.19,>=2.18->tensorflow) (3.8)\n",
            "Requirement already satisfied: tensorboard-data-server<0.8.0,>=0.7.0 in /usr/local/lib/python3.11/dist-packages (from tensorboard<2.19,>=2.18->tensorflow) (0.7.2)\n",
            "Requirement already satisfied: werkzeug>=1.0.1 in /usr/local/lib/python3.11/dist-packages (from tensorboard<2.19,>=2.18->tensorflow) (3.1.3)\n",
            "Requirement already satisfied: MarkupSafe>=2.1.1 in /usr/local/lib/python3.11/dist-packages (from werkzeug>=1.0.1->tensorboard<2.19,>=2.18->tensorflow) (3.0.2)\n",
            "Requirement already satisfied: markdown-it-py>=2.2.0 in /usr/local/lib/python3.11/dist-packages (from rich->keras>=3.5.0->tensorflow) (3.0.0)\n",
            "Requirement already satisfied: pygments<3.0.0,>=2.13.0 in /usr/local/lib/python3.11/dist-packages (from rich->keras>=3.5.0->tensorflow) (2.18.0)\n",
            "Requirement already satisfied: mdurl~=0.1 in /usr/local/lib/python3.11/dist-packages (from markdown-it-py>=2.2.0->rich->keras>=3.5.0->tensorflow) (0.1.2)\n"
          ]
        }
      ],
      "source": [
        "!pip install mne\n",
        "!pip install pywavelets\n",
        "!pip install matplotlib\n",
        "!pip install numpy\n",
        "!pip install pandas\n",
        "!pip install tensorflow"
      ]
    },
    {
      "cell_type": "code",
      "execution_count": null,
      "metadata": {
        "id": "YA1H0FnVIlpA"
      },
      "outputs": [],
      "source": [
        "import matplotlib.pyplot as plt\n",
        "import numpy as np\n",
        "import mne\n",
        "from mne.datasets import eegbci\n",
        "from mne.io import read_raw_edf\n",
        "import pywt\n",
        "import pandas as pd\n",
        "import os\n",
        "from tqdm import tqdm\n",
        "from imblearn.over_sampling import SMOTE\n",
        "from sklearn.metrics import confusion_matrix\n",
        "import seaborn as sns\n",
        "import tensorflow as tf\n",
        "from tensorflow.keras.models import Sequential\n",
        "from tensorflow.keras.layers import Conv3D, BatchNormalization, MaxPooling3D, Flatten, Dense, Dropout\n",
        "from tensorflow.keras.utils import to_categorical\n",
        "from sklearn.preprocessing import StandardScaler"
      ]
    },
    {
      "cell_type": "code",
      "execution_count": null,
      "metadata": {
        "id": "VYByJwxyIuzK"
      },
      "outputs": [],
      "source": [
        "np.random.seed(42)\n",
        "subjects = range(1,6)\n",
        "runs = [3, 4, 5, 6, 7, 8, 9, 10, 11, 12, 13, 14]\n",
        "\n",
        "#preprocessing parameters\n",
        "samplingFreq = 160\n",
        "lowFreq = 0.5\n",
        "highFreq = 45\n",
        "notchFreq = 60\n",
        "tMin, tMax = 0, 4"
      ]
    },
    {
      "cell_type": "code",
      "execution_count": null,
      "metadata": {
        "colab": {
          "base_uri": "https://localhost:8080/",
          "height": 143
        },
        "id": "i2sLxi0MnGbz",
        "outputId": "25f39a96-bb16-4765-fb4b-896ee0860e11"
      },
      "outputs": [
        {
          "output_type": "execute_result",
          "data": {
            "text/plain": [
              "'def loadEEG(subject, runs):\\n  filePaths = eegbci.load_data(subject, runs)\\n  print(f\"Loading data for subject {subject}\")\\n  rawlist = []\\n\\n  for file in filePaths:\\n    raw = read_raw_edf(file, preload=True)\\n    rawlist.append(raw)\\n\\n  if len(rawlist) > 1:\\n    raw = mne.concatenate_raws(rawlist)\\n  else:\\n    raw = rawlist[0]\\n\\n  rename_dict = {\\n        \\'Fc5.\\': \\'FC5\\', \\'Fc3.\\': \\'FC3\\', \\'Fc1.\\': \\'FC1\\', \\'Fcz.\\': \\'FCz\\', \\'Fc2.\\': \\'FC2\\', \\'Fc4.\\': \\'FC4\\', \\'Fc6.\\': \\'FC6\\',\\n        \\'C5..\\': \\'C5\\', \\'C3..\\': \\'C3\\', \\'C1..\\': \\'C1\\', \\'Cz..\\': \\'Cz\\', \\'C2..\\': \\'C2\\', \\'C4..\\': \\'C4\\', \\'C6..\\': \\'C6\\',\\n        \\'Cp5.\\': \\'CP5\\', \\'Cp3.\\': \\'CP3\\', \\'Cp1.\\': \\'CP1\\', \\'Cpz.\\': \\'CPz\\', \\'Cp2.\\': \\'CP2\\', \\'Cp4.\\': \\'CP4\\', \\'Cp6.\\': \\'CP6\\',\\n        \\'Fp1.\\': \\'Fp1\\', \\'Fpz.\\': \\'Fpz\\', \\'Fp2.\\': \\'Fp2\\', \\'Af7.\\': \\'AF7\\', \\'Af3.\\': \\'AF3\\', \\'Afz.\\': \\'AFz\\', \\'Af4.\\': \\'AF4\\', \\'Af8.\\': \\'AF8\\',\\n        \\'F7..\\': \\'F7\\', \\'F5..\\': \\'F5\\', \\'F3..\\': \\'F3\\', \\'F1..\\': \\'F1\\', \\'Fz..\\': \\'Fz\\', \\'F2..\\': \\'F2\\', \\'F4..\\': \\'F4\\', \\'F6..\\': \\'F6\\', \\'F8..\\': \\'F8\\',\\n        \\'Ft7.\\': \\'FT7\\', \\'Ft8.\\': \\'FT8\\', \\'T7..\\': \\'T7\\', \\'T8..\\': \\'T8\\', \\'T9..\\': \\'T9\\', \\'T10.\\': \\'T10\\', \\'Tp7.\\': \\'TP7\\', \\'Tp8.\\': \\'TP8\\',\\n        \\'P7..\\': \\'P7\\', \\'P5..\\': \\'P5\\', \\'P3..\\': \\'P3\\', \\'P1..\\': \\'P1\\', \\'Pz..\\': \\'Pz\\', \\'P2..\\': \\'P2\\', \\'P4..\\': \\'P4\\', \\'P6..\\': \\'P6\\', \\'P8..\\': \\'P8\\',\\n        \\'Po7.\\': \\'PO7\\', \\'Po3.\\': \\'PO3\\', \\'Poz.\\': \\'POz\\', \\'Po4.\\': \\'PO4\\', \\'Po8.\\': \\'PO8\\', \\'O1..\\': \\'O1\\', \\'Oz..\\': \\'Oz\\', \\'O2..\\': \\'O2\\', \\'Iz..\\': \\'Iz\\'\\n    }\\n  raw.rename_channels(rename_dict)\\n\\n  montage = mne.channels.make_standard_montage(\\'standard_1020\\')\\n  raw.set_montage(montage)\\n\\n  events, eventID = mne.events_from_annotations(raw)\\n  raw.filter(l_freq = lowFreq, h_freq = highFreq)\\n  raw.notch_filter(freqs = notchFreq)\\n\\n  eventID = dict(T1 = 1, T2 = 2)\\n  epochs = mne.Epochs(raw, events, eventID, tmin=tMin, tmax=tMax, baseline=None, preload=True)\\n  return raw, epochs, events, eventID'"
            ],
            "application/vnd.google.colaboratory.intrinsic+json": {
              "type": "string"
            }
          },
          "metadata": {},
          "execution_count": 4
        }
      ],
      "source": [
        "\"\"\"def loadEEG(subject, runs):\n",
        "  filePaths = eegbci.load_data(subject, runs)\n",
        "  print(f\"Loading data for subject {subject}\")\n",
        "  rawlist = []\n",
        "\n",
        "  for file in filePaths:\n",
        "    raw = read_raw_edf(file, preload=True)\n",
        "    rawlist.append(raw)\n",
        "\n",
        "  if len(rawlist) > 1:\n",
        "    raw = mne.concatenate_raws(rawlist)\n",
        "  else:\n",
        "    raw = rawlist[0]\n",
        "\n",
        "  rename_dict = {\n",
        "        'Fc5.': 'FC5', 'Fc3.': 'FC3', 'Fc1.': 'FC1', 'Fcz.': 'FCz', 'Fc2.': 'FC2', 'Fc4.': 'FC4', 'Fc6.': 'FC6',\n",
        "        'C5..': 'C5', 'C3..': 'C3', 'C1..': 'C1', 'Cz..': 'Cz', 'C2..': 'C2', 'C4..': 'C4', 'C6..': 'C6',\n",
        "        'Cp5.': 'CP5', 'Cp3.': 'CP3', 'Cp1.': 'CP1', 'Cpz.': 'CPz', 'Cp2.': 'CP2', 'Cp4.': 'CP4', 'Cp6.': 'CP6',\n",
        "        'Fp1.': 'Fp1', 'Fpz.': 'Fpz', 'Fp2.': 'Fp2', 'Af7.': 'AF7', 'Af3.': 'AF3', 'Afz.': 'AFz', 'Af4.': 'AF4', 'Af8.': 'AF8',\n",
        "        'F7..': 'F7', 'F5..': 'F5', 'F3..': 'F3', 'F1..': 'F1', 'Fz..': 'Fz', 'F2..': 'F2', 'F4..': 'F4', 'F6..': 'F6', 'F8..': 'F8',\n",
        "        'Ft7.': 'FT7', 'Ft8.': 'FT8', 'T7..': 'T7', 'T8..': 'T8', 'T9..': 'T9', 'T10.': 'T10', 'Tp7.': 'TP7', 'Tp8.': 'TP8',\n",
        "        'P7..': 'P7', 'P5..': 'P5', 'P3..': 'P3', 'P1..': 'P1', 'Pz..': 'Pz', 'P2..': 'P2', 'P4..': 'P4', 'P6..': 'P6', 'P8..': 'P8',\n",
        "        'Po7.': 'PO7', 'Po3.': 'PO3', 'Poz.': 'POz', 'Po4.': 'PO4', 'Po8.': 'PO8', 'O1..': 'O1', 'Oz..': 'Oz', 'O2..': 'O2', 'Iz..': 'Iz'\n",
        "    }\n",
        "  raw.rename_channels(rename_dict)\n",
        "\n",
        "  montage = mne.channels.make_standard_montage('standard_1020')\n",
        "  raw.set_montage(montage)\n",
        "\n",
        "  events, eventID = mne.events_from_annotations(raw)\n",
        "  raw.filter(l_freq = lowFreq, h_freq = highFreq)\n",
        "  raw.notch_filter(freqs = notchFreq)\n",
        "\n",
        "  eventID = dict(T1 = 1, T2 = 2)\n",
        "  epochs = mne.Epochs(raw, events, eventID, tmin=tMin, tmax=tMax, baseline=None, preload=True)\n",
        "  return raw, epochs, events, eventID\"\"\""
      ]
    },
    {
      "cell_type": "code",
      "execution_count": null,
      "metadata": {
        "id": "1UgDiLrZIhu7"
      },
      "outputs": [],
      "source": [
        "#not run\n",
        "\n",
        "def loadEEG_for_subject(subject, runs):\n",
        "    \"\"\"\n",
        "    Process each EDF file (run) separately so that we can remap labels based on run.\n",
        "    Returns:\n",
        "        combined_data: (n_epochs, n_channels, n_times)\n",
        "        combined_labels: (n_epochs,)\n",
        "    \"\"\"\n",
        "    filePaths = eegbci.load_data(subject, runs)\n",
        "    print(f\"Loading data for subject {subject}\")\n",
        "\n",
        "    all_epochs = []   # list to accumulate epoch data arrays\n",
        "    all_labels = []   # list to accumulate remapped labels\n",
        "\n",
        "    # Process each file independently\n",
        "    for file in filePaths:\n",
        "        # Extract run number from filename\n",
        "        try:\n",
        "            # Extract just the numeric part and convert to int\n",
        "            run_str = str(file).split('R')[1].split('.')[0]\n",
        "            run_number = int(run_str)\n",
        "            print(f\"Processing run {run_number} from file {file}\")\n",
        "        except Exception as e:\n",
        "            print(f\"Could not extract run number from {file}: {e}\")\n",
        "            continue\n",
        "\n",
        "        # Load the raw EDF file\n",
        "        raw = read_raw_edf(file, preload=True)\n",
        "\n",
        "        # Rename channels as before\n",
        "        rename_dict = {\n",
        "            'Fc5.': 'FC5', 'Fc3.': 'FC3', 'Fc1.': 'FC1', 'Fcz.': 'FCz', 'Fc2.': 'FC2', 'Fc4.': 'FC4', 'Fc6.': 'FC6',\n",
        "            'C5..': 'C5', 'C3..': 'C3', 'C1..': 'C1', 'Cz..': 'Cz', 'C2..': 'C2', 'C4..': 'C4', 'C6..': 'C6',\n",
        "            'Cp5.': 'CP5', 'Cp3.': 'CP3', 'Cp1.': 'CP1', 'Cpz.': 'CPz', 'Cp2.': 'CP2', 'Cp4.': 'CP4', 'Cp6.': 'CP6',\n",
        "            'Fp1.': 'Fp1', 'Fpz.': 'Fpz', 'Fp2.': 'Fp2', 'Af7.': 'AF7', 'Af3.': 'AF3', 'Afz.': 'AFz', 'Af4.': 'AF4', 'Af8.': 'AF8',\n",
        "            'F7..': 'F7', 'F5..': 'F5', 'F3..': 'F3', 'F1..': 'F1', 'Fz..': 'Fz', 'F2..': 'F2', 'F4..': 'F4', 'F6..': 'F6', 'F8..': 'F8',\n",
        "            'Ft7.': 'FT7', 'Ft8.': 'FT8', 'T7..': 'T7', 'T8..': 'T8', 'T9..': 'T9', 'T10.': 'T10', 'Tp7.': 'TP7', 'Tp8.': 'TP8',\n",
        "            'P7..': 'P7', 'P5..': 'P5', 'P3..': 'P3', 'P1..': 'P1', 'Pz..': 'Pz', 'P2..': 'P2', 'P4..': 'P4', 'P6..': 'P6', 'P8..': 'P8',\n",
        "            'Po7.': 'PO7', 'Po3.': 'PO3', 'Poz.': 'POz', 'Po4.': 'PO4', 'Po8.': 'PO8', 'O1..': 'O1', 'Oz..': 'Oz', 'O2..': 'O2', 'Iz..': 'Iz'\n",
        "        }\n",
        "        raw.rename_channels(rename_dict)\n",
        "        montage = mne.channels.make_standard_montage('standard_1020')\n",
        "        raw.set_montage(montage)\n",
        "\n",
        "        # Apply filtering and notch filter\n",
        "        raw.filter(l_freq=lowFreq, h_freq=highFreq, n_jobs=-1)\n",
        "        raw.notch_filter(freqs=notchFreq, n_jobs=-1)\n",
        "\n",
        "        # Create events from annotations using only T1 and T2\n",
        "        events, _ = mne.events_from_annotations(raw)\n",
        "        # Define event IDs for T1 and T2 (we ignore T0)\n",
        "        eventID = dict(T1=1, T2=2)\n",
        "        # Create epochs for this file/run\n",
        "        epochs = mne.Epochs(raw, events, eventID, tmin=tMin, tmax=tMax, baseline=None, preload=True)\n",
        "\n",
        "        data = epochs.get_data()  # (n_epochs, n_channels, n_times)\n",
        "        orig_labels = epochs.events[:, -1]  # These will be 1 (T1) or 2 (T2)\n",
        "\n",
        "        # Remap labels based on run number\n",
        "        # Group 1: runs 3, 4, 7, 8, 11, 12 → Left vs Right hand\n",
        "        #     T1: left hand (label 0), T2: right hand (label 1)\n",
        "        # Group 2: runs 5, 6, 9, 10, 13, 14 → Hands vs Feet\n",
        "        #     T1: hands (label 2), T2: feet (label 3)\n",
        "        if run_number in [3, 4, 7, 8, 11, 12]:\n",
        "            new_labels = [0 if lab == 1 else 1 for lab in orig_labels]\n",
        "            print(f\"Run {run_number}: Left vs Right hand paradigm, found {len(new_labels)} events\")\n",
        "        elif run_number in [5, 6, 9, 10, 13, 14]:\n",
        "            new_labels = [2 if lab == 1 else 3 for lab in orig_labels]\n",
        "            print(f\"Run {run_number}: Hands vs Feet paradigm, found {len(new_labels)} events\")\n",
        "        else:\n",
        "            print(f\"Run {run_number} not in defined groups, skipping.\")\n",
        "            continue\n",
        "\n",
        "        # Append each epoch and corresponding new label\n",
        "        for i in range(len(epochs)):\n",
        "            all_epochs.append(data[i])\n",
        "            all_labels.append(new_labels[i])\n",
        "\n",
        "    if len(all_epochs) == 0:\n",
        "        raise ValueError(f\"No epochs found for subject {subject}.\")\n",
        "\n",
        "    combined_data = np.array(all_epochs)  # shape: (n_total_epochs, n_channels, n_times)\n",
        "    combined_labels = np.array(all_labels)  # shape: (n_total_epochs,)\n",
        "    print(f\"Subject {subject}: {combined_data.shape[0]} epochs loaded.\")\n",
        "    return combined_data, combined_labels"
      ]
    },
    {
      "cell_type": "code",
      "execution_count": null,
      "metadata": {
        "id": "VoTIlKJMLNkm"
      },
      "outputs": [],
      "source": [
        "#not run\n",
        "\n",
        "def cwt_transform(signal, scales, wavelet='morl'):\n",
        "    coeffs, freqs = pywt.cwt(signal, scales, wavelet)\n",
        "    return coeffs"
      ]
    },
    {
      "cell_type": "code",
      "execution_count": null,
      "metadata": {
        "id": "FQ5IQ5eaJOA5"
      },
      "outputs": [],
      "source": [
        "#not run\n",
        "\n",
        "def extractFeatures_from_epochs(epoch_data, labels, scales):\n",
        "    \"\"\"\n",
        "    Process a 3D array of epochs (n_epochs, n_channels, n_times) and remap to features.\n",
        "    For each channel in each epoch, compute CWT, then extract mean and std across scales.\n",
        "    \"\"\"\n",
        "    X = []\n",
        "    y = []\n",
        "\n",
        "    print(\"Extracting features from epochs\")\n",
        "    for i, epoch in enumerate(epoch_data):\n",
        "        epoch_features = []\n",
        "        for channel in epoch:\n",
        "            # Apply CWT to the channel signal\n",
        "            coeffs = cwt_transform(channel, scales)\n",
        "            # Compute statistics from CWT coefficients\n",
        "            mean_coeffs = np.mean(coeffs, axis=1)\n",
        "            std_coeffs = np.std(coeffs, axis=1)\n",
        "            channel_features = np.concatenate([mean_coeffs, std_coeffs])\n",
        "            epoch_features.append(channel_features)\n",
        "        # Flatten features from all channels into a single vector\n",
        "        epoch_features = np.concatenate(epoch_features)\n",
        "        X.append(epoch_features)\n",
        "        y.append(labels[i])\n",
        "    X = np.array(X)\n",
        "    y = np.array(y)\n",
        "    return X, y"
      ]
    },
    {
      "cell_type": "code",
      "execution_count": null,
      "metadata": {
        "colab": {
          "base_uri": "https://localhost:8080/"
        },
        "id": "4J7IcQwOJRGg",
        "outputId": "87f2754d-e49b-4b10-dd4b-e08b9733cd84"
      },
      "outputs": [
        {
          "output_type": "stream",
          "name": "stdout",
          "text": [
            "Error processing subject 1: name 'loadEEG_for_subject' is not defined\n",
            "Error processing subject 2: name 'loadEEG_for_subject' is not defined\n",
            "Error processing subject 3: name 'loadEEG_for_subject' is not defined\n",
            "Error processing subject 4: name 'loadEEG_for_subject' is not defined\n",
            "Error processing subject 5: name 'loadEEG_for_subject' is not defined\n"
          ]
        }
      ],
      "source": [
        "#not run\n",
        "\n",
        "allFeatures = []\n",
        "allLabels = []\n",
        "for subject in subjects:\n",
        "    try:\n",
        "        epochs_data, labels = loadEEG_for_subject(subject, runs)\n",
        "        scales = np.arange(1, 128)\n",
        "        # Extract features for the subject\n",
        "        X_subj, y_subj = extractFeatures_from_epochs(epochs_data, labels, scales)\n",
        "        allFeatures.append(X_subj)\n",
        "        allLabels.append(y_subj)\n",
        "    except Exception as e:\n",
        "        print(f\"Error processing subject {subject}: {e}\")\n",
        "        continue"
      ]
    },
    {
      "cell_type": "code",
      "execution_count": null,
      "metadata": {
        "id": "-dN7mt2XI061"
      },
      "outputs": [],
      "source": [
        "#not run\n",
        "\n",
        "if len(allFeatures) > 0:\n",
        "    X = np.vstack(allFeatures)\n",
        "    y = np.concatenate(allLabels)\n",
        "else:\n",
        "    X = np.array([])\n",
        "    y = np.array([])\n"
      ]
    },
    {
      "cell_type": "code",
      "execution_count": null,
      "metadata": {
        "id": "PoNB3HZaMjVS",
        "colab": {
          "base_uri": "https://localhost:8080/"
        },
        "outputId": "56811719-24a4-443e-d82e-bb63354f8261"
      },
      "outputs": [
        {
          "output_type": "stream",
          "name": "stdout",
          "text": [
            "Created directory: ./eeg_data\n",
            "No features or labels to save. Check feature extraction.\n",
            "\n",
            "Processing complete!\n",
            "Features shape: (0,)\n",
            "Labels shape: (0,)\n"
          ]
        }
      ],
      "source": [
        "#not run\n",
        "\n",
        "if not os.path.exists('./eeg_data'):\n",
        "    os.makedirs('./eeg_data')\n",
        "    print(\"Created directory: ./eeg_data\")\n",
        "\n",
        "X = np.vstack(allFeatures) if allFeatures else np.array([])\n",
        "y = np.concatenate(allLabels) if allLabels else np.array([])\n",
        "\n",
        "if X.size > 0 and y.size > 0:\n",
        "    if not os.path.exists('./eeg_data'):\n",
        "        os.makedirs('./eeg_data')\n",
        "        print(\"Created directory: ./eeg_data\")\n",
        "    np.save('./eeg_data/X_cwt.npy', X)\n",
        "    np.save('./eeg_data/y_cwt.npy', y)\n",
        "    print(\"Saved features to ./eeg_data/X_cwt.npy\")\n",
        "    print(\"Saved labels to ./eeg_data/y_cwt.npy\")\n",
        "else:\n",
        "    print(\"No features or labels to save. Check feature extraction.\")\n",
        "\n",
        "print(\"\\nProcessing complete!\")\n",
        "print(f\"Features shape: {X.shape}\")\n",
        "print(f\"Labels shape: {y.shape}\")\n",
        "\n",
        "if y.size > 0:\n",
        "    unique_labels, counts = np.unique(y, return_counts=True)\n",
        "    print(f\"Unique labels: {unique_labels}\")\n",
        "    print(f\"Label counts: {counts}\")\n",
        "    plt.figure(figsize=(8, 5))\n",
        "    plt.bar(['Class '+str(c) for c in unique_labels], counts)\n",
        "    plt.title('Class Distribution')\n",
        "    plt.xlabel('Class')\n",
        "    plt.ylabel('Count')\n",
        "    plt.savefig('./eeg_data/class_distribution.png')\n",
        "    plt.show()"
      ]
    },
    {
      "cell_type": "code",
      "execution_count": null,
      "metadata": {
        "id": "tw2EG_hVMnNb"
      },
      "outputs": [],
      "source": [
        "#not run\n",
        "\n",
        "smote = SMOTE(sampling_strategy='auto', random_state=42)\n",
        "X_resampled, y_resampled = smote.fit_resample(X, y)\n",
        "unique_labels_resampled, counts_resampled = np.unique(y_resampled, return_counts=True)\n",
        "print(f\"Unique labels after SMOTE: {unique_labels_resampled}\")\n",
        "print(f\"Label counts after SMOTE: {counts_resampled}\")\n",
        "np.save('./eeg_data/X_resampled.npy', X_resampled)\n",
        "np.save('./eeg_data/y_resampled.npy', y_resampled)\n",
        "\n",
        "plt.figure(figsize=(8, 5))\n",
        "plt.bar(['Class '+str(c) for c in unique_labels_resampled], counts_resampled)\n",
        "plt.title('Resampled Class Distribution')\n",
        "plt.xlabel('Class')\n",
        "plt.ylabel('Count')\n",
        "plt.savefig('./eeg_data/resampled_class_distribution.png')\n",
        "plt.show()"
      ]
    },
    {
      "cell_type": "markdown",
      "source": [
        "loading preloaded data"
      ],
      "metadata": {
        "id": "u7JkmA6uvSLh"
      }
    },
    {
      "cell_type": "code",
      "source": [
        "from google.colab import drive\n",
        "drive.mount('/content/drive')\n",
        "\n",
        "# Change to your directory containing the .npy files\n",
        "%cd /content/drive/MyDrive/capstone\n",
        "print(\"INSIDE CAPSTONE FOLDER\")\n",
        "\n",
        "\n",
        "import tensorflow as tf\n",
        "import numpy as np\n",
        "import matplotlib.pyplot as plt\n",
        "from tensorflow.keras.models import Sequential\n",
        "from tensorflow.keras.layers import Conv3D, BatchNormalization, MaxPooling3D, Flatten, Dense, Dropout\n",
        "from tensorflow.keras.utils import to_categorical\n",
        "from sklearn.metrics import confusion_matrix, ConfusionMatrixDisplay\n",
        "\n",
        "# Load the .npy files directly\n",
        "X_resampled = np.load('X_resampled (1).npy')\n",
        "y_resampled = np.load('y_resampled (1).npy')\n",
        "\n",
        "# Make sure classes start from 0 instead of 1 if needed\n",
        "if np.min(y_resampled) == 1:\n",
        "    y_resampled = y_resampled - 1\n",
        "\n",
        "# Print shapes to verify data\n",
        "print(f\"X_resampled shape: {X_resampled.shape}\")\n",
        "print(f\"y_resampled shape: {y_resampled.shape}\")\n",
        "\n",
        "# Reshape the data for 3D CNN if needed\n",
        "# This will depend on your original data format\n",
        "# Assuming X_resampled is (n_samples, n_features) where features are flattened\n",
        "# For a 3D CNN with shape (samples, channels, time, height, width)\n",
        "num_channels = 64  # Typical EEG channels\n",
        "time_steps = 641   # Number of time points\n",
        "\n",
        "# Reshape to match expected input (batch, channels, time, height, width)\n",
        "print(\"X_resampled original shape:\", X_resampled.shape)\n",
        "X_reshaped = X_resampled.reshape(X_resampled.shape[0], X_resampled.shape[1], 1, 1, 1)\n",
        "print(f\"X_reshaped shape: {X_reshaped.shape}\")\n",
        "\n",
        "# Convert labels to categorical (One-Hot Encoding)\n",
        "y_categorical = to_categorical(y_resampled)\n",
        "print(f\"y_categorical shape: {y_categorical.shape}\")"
      ],
      "metadata": {
        "colab": {
          "base_uri": "https://localhost:8080/"
        },
        "id": "XenaNgpTvRwt",
        "outputId": "e2cd893e-d97f-472b-d287-7c9c29794f88"
      },
      "execution_count": null,
      "outputs": [
        {
          "output_type": "stream",
          "name": "stdout",
          "text": [
            "Drive already mounted at /content/drive; to attempt to forcibly remount, call drive.mount(\"/content/drive\", force_remount=True).\n",
            "/content/drive/MyDrive/capstone\n",
            "INSIDE CAPSTONE FOLDER\n",
            "X_resampled shape: (5400, 16256)\n",
            "y_resampled shape: (5400,)\n",
            "X_resampled original shape: (5400, 16256)\n",
            "X_reshaped shape: (5400, 16256, 1, 1, 1)\n",
            "y_categorical shape: (5400, 4)\n"
          ]
        }
      ]
    },
    {
      "cell_type": "code",
      "source": [
        "num_channels = 2          # e.g., Left Hand vs Right Hand EEG channels\n",
        "freq_bins = 64            # Number of frequency bins in your CWT\n",
        "time_bins = 127           # Number of time bins in your CWT\n",
        "\n",
        "# Now calculate total features\n",
        "total_features = num_channels * freq_bins * time_bins\n",
        "print(total_features)  # should print 16256"
      ],
      "metadata": {
        "colab": {
          "base_uri": "https://localhost:8080/"
        },
        "id": "zYpMItv1KfG3",
        "outputId": "329fab0a-4a54-40ba-bea7-174ff18d5dfb"
      },
      "execution_count": null,
      "outputs": [
        {
          "output_type": "stream",
          "name": "stdout",
          "text": [
            "16256\n"
          ]
        }
      ]
    },
    {
      "cell_type": "code",
      "source": [
        "# Import necessary libraries\n",
        "import numpy as np\n",
        "import tensorflow as tf\n",
        "from tensorflow.keras.models import Model\n",
        "from tensorflow.keras.layers import Input, Conv3D, BatchNormalization, MaxPooling3D, Dense, Dropout, Flatten, Add, Activation\n",
        "from tensorflow.keras.utils import to_categorical\n",
        "from tensorflow.keras.optimizers import Adam\n",
        "from tensorflow.keras.callbacks import EarlyStopping, ReduceLROnPlateau, ModelCheckpoint\n",
        "from sklearn.model_selection import train_test_split\n",
        "from sklearn.preprocessing import StandardScaler\n",
        "\n",
        "# Load data\n",
        "X_resampled = np.load('X_resampled (1).npy')\n",
        "y_resampled = np.load('y_resampled (1).npy')\n",
        "\n",
        "# Make sure classes start from 0 instead of 1 if needed\n",
        "if np.min(y_resampled) == 1:\n",
        "    y_resampled = y_resampled - 1\n",
        "\n",
        "# Get dimensions\n",
        "n_samples, n_features = X_resampled.shape\n",
        "num_channels = 64\n",
        "time_steps = n_features // num_channels\n",
        "print(f\"Features: {n_features}, Channels: {num_channels}, Time steps: {time_steps}\")\n",
        "\n",
        "# Normalize data - critical for performance\n",
        "scaler = StandardScaler()\n",
        "X_normalized = scaler.fit_transform(X_resampled)\n",
        "\n",
        "# Reshape to 3D CNN format (samples, channels, time_steps, 1, 1)\n",
        "X_reshaped = X_normalized.reshape(n_samples, num_channels, time_steps, 1, 1)\n",
        "print(f\"X_reshaped shape: {X_reshaped.shape}\")\n",
        "\n",
        "# One-hot encode labels\n",
        "y_categorical = to_categorical(y_resampled)\n",
        "print(f\"y_categorical shape: {y_categorical.shape}\")\n",
        "\n",
        "# Split data properly - use dedicated validation set\n",
        "X_train, X_val, y_train, y_val = train_test_split(\n",
        "    X_reshaped, y_categorical, test_size=0.2, random_state=42, stratify=y_resampled\n",
        ")\n",
        "print(f\"Train shapes: {X_train.shape}, {y_train.shape}\")\n",
        "print(f\"Validation shapes: {X_val.shape}, {y_val.shape}\")\n",
        "\n",
        "# Create a ResNet-style block for better performance\n",
        "def residual_block(x, filters, kernel_size=(3, 3, 1)):\n",
        "    shortcut = x\n",
        "\n",
        "    # First conv layer\n",
        "    x = Conv3D(filters, kernel_size, padding='same')(x)\n",
        "    x = BatchNormalization()(x)\n",
        "    x = Activation('relu')(x)\n",
        "\n",
        "    # Second conv layer\n",
        "    x = Conv3D(filters, kernel_size, padding='same')(x)\n",
        "    x = BatchNormalization()(x)\n",
        "\n",
        "    # Add shortcut\n",
        "    if shortcut.shape[-1] != filters:\n",
        "        shortcut = Conv3D(filters, (1, 1, 1), padding='same')(shortcut)\n",
        "        shortcut = BatchNormalization()(shortcut)\n",
        "\n",
        "    x = Add()([x, shortcut])\n",
        "    x = Activation('relu')(x)\n",
        "\n",
        "    return x\n",
        "\n",
        "# Build improved model with residual connections\n",
        "input_layer = Input(shape=(num_channels, time_steps, 1, 1))\n",
        "\n",
        "# First block\n",
        "x = Conv3D(64, (3, 3, 1), padding='same')(input_layer)\n",
        "x = BatchNormalization()(x)\n",
        "x = Activation('relu')(x)\n",
        "x = MaxPooling3D((2, 2, 1))(x)\n",
        "\n",
        "# Residual blocks\n",
        "x = residual_block(x, 64)\n",
        "x = MaxPooling3D((2, 2, 1))(x)\n",
        "x = Dropout(0.3)(x)\n",
        "\n",
        "x = residual_block(x, 128)\n",
        "x = MaxPooling3D((2, 2, 1))(x)\n",
        "x = Dropout(0.4)(x)\n",
        "\n",
        "x = residual_block(x, 256)\n",
        "x = MaxPooling3D((2, 2, 1))(x)\n",
        "x = Dropout(0.4)(x)\n",
        "\n",
        "# Classification head\n",
        "x = Flatten()(x)\n",
        "x = Dense(512, activation='relu')(x)\n",
        "x = BatchNormalization()(x)\n",
        "x = Dropout(0.5)(x)\n",
        "x = Dense(256, activation='relu')(x)\n",
        "x = BatchNormalization()(x)\n",
        "x = Dropout(0.5)(x)\n",
        "output_layer = Dense(y_categorical.shape[1], activation='softmax')(x)\n",
        "\n",
        "# Create model\n",
        "model = Model(inputs=input_layer, outputs=output_layer)\n",
        "\n",
        "# Compile with a lower learning rate\n",
        "model.compile(\n",
        "    optimizer=Adam(learning_rate=0.0005),\n",
        "    loss='categorical_crossentropy',\n",
        "    metrics=['accuracy']\n",
        ")\n",
        "\n",
        "# Use callbacks for better training\n",
        "callbacks = [\n",
        "    # Early stopping to prevent overfitting\n",
        "    EarlyStopping(\n",
        "        monitor='val_accuracy',\n",
        "        patience=10,\n",
        "        restore_best_weights=True,\n",
        "        verbose=1\n",
        "    ),\n",
        "    # Reduce learning rate when plateauing\n",
        "    ReduceLROnPlateau(\n",
        "        monitor='val_loss',\n",
        "        factor=0.2,\n",
        "        patience=5,\n",
        "        min_lr=1e-6,\n",
        "        verbose=1\n",
        "    ),\n",
        "    # Save best model\n",
        "    ModelCheckpoint(\n",
        "        'best_eeg_model.h5',\n",
        "        monitor='val_accuracy',\n",
        "        save_best_only=True,\n",
        "        verbose=1\n",
        "    )\n",
        "]\n",
        "\n",
        "# Train with proper validation data and callbacks\n",
        "history = model.fit(\n",
        "    X_train, y_train,\n",
        "    validation_data=(X_val, y_val),\n",
        "    epochs=30,  # More epochs with early stopping\n",
        "    batch_size=32,\n",
        "    callbacks=callbacks,\n",
        "    verbose=1\n",
        ")\n",
        "\n",
        "# Evaluate on validation set\n",
        "val_loss, val_acc = model.evaluate(X_val, y_val)\n",
        "print(f\"Validation Accuracy: {val_acc * 100:.2f}%\")\n",
        "\n",
        "# Plot training history\n",
        "import matplotlib.pyplot as plt\n",
        "\n",
        "plt.figure(figsize=(12, 4))\n",
        "plt.subplot(1, 2, 1)\n",
        "plt.plot(history.history['accuracy'], label='Training Accuracy')\n",
        "plt.plot(history.history['val_accuracy'], label='Validation Accuracy')\n",
        "plt.title('Model Accuracy')\n",
        "plt.xlabel('Epoch')\n",
        "plt.ylabel('Accuracy')\n",
        "plt.legend()\n",
        "\n",
        "plt.subplot(1, 2, 2)\n",
        "plt.plot(history.history['loss'], label='Training Loss')\n",
        "plt.plot(history.history['val_loss'], label='Validation Loss')\n",
        "plt.title('Model Loss')\n",
        "plt.xlabel('Epoch')\n",
        "plt.ylabel('Loss')\n",
        "plt.legend()\n",
        "\n",
        "plt.tight_layout()\n",
        "plt.savefig('improved_training_history.png')\n",
        "plt.show()\n",
        "\n",
        "# Generate confusion matrix\n",
        "from sklearn.metrics import confusion_matrix, classification_report, ConfusionMatrixDisplay\n",
        "\n",
        "# Predictions\n",
        "y_pred = model.predict(X_val)\n",
        "y_pred_classes = np.argmax(y_pred, axis=1)\n",
        "y_true_classes = np.argmax(y_val, axis=1)\n",
        "\n",
        "# Class names for visualization\n",
        "class_names = ['Left Hand', 'Right Hand', 'Both Hands', 'Feet']\n",
        "\n",
        "# Create confusion matrix\n",
        "cm = confusion_matrix(y_true_classes, y_pred_classes)\n",
        "print(\"Confusion Matrix:\")\n",
        "print(cm)\n",
        "\n",
        "# Plot confusion matrix\n",
        "plt.figure(figsize=(10, 8))\n",
        "disp = ConfusionMatrixDisplay(confusion_matrix=cm, display_labels=class_names)\n",
        "disp.plot(cmap=plt.cm.Blues)\n",
        "plt.title('Confusion Matrix')\n",
        "plt.savefig('improved_confusion_matrix.png')\n",
        "plt.show()\n",
        "\n",
        "# Print classification report\n",
        "print(\"\\nClassification Report:\")\n",
        "print(classification_report(y_true_classes, y_pred_classes, target_names=class_names))\n",
        "\n",
        "# Save the model\n",
        "model.save('eeg_classifier_improved.h5')\n",
        "print(\"Model saved as 'eeg_classifier_improved.h5'\")"
      ],
      "metadata": {
        "colab": {
          "base_uri": "https://localhost:8080/",
          "height": 1000
        },
        "id": "f9xZGjMgTjn_",
        "outputId": "1845cf93-2681-4afb-ce03-40d7085cd8eb"
      },
      "execution_count": null,
      "outputs": [
        {
          "output_type": "stream",
          "name": "stdout",
          "text": [
            "Features: 16256, Channels: 64, Time steps: 254\n",
            "X_reshaped shape: (5400, 64, 254, 1, 1)\n",
            "y_categorical shape: (5400, 4)\n",
            "Train shapes: (4320, 64, 254, 1, 1), (4320, 4)\n",
            "Validation shapes: (1080, 64, 254, 1, 1), (1080, 4)\n",
            "Epoch 1/30\n",
            "\u001b[1m135/135\u001b[0m \u001b[32m━━━━━━━━━━━━━━━━━━━━\u001b[0m\u001b[37m\u001b[0m \u001b[1m0s\u001b[0m 220ms/step - accuracy: 0.2738 - loss: 2.1338\n",
            "Epoch 1: val_accuracy improved from -inf to 0.25000, saving model to best_eeg_model.h5\n"
          ]
        },
        {
          "output_type": "stream",
          "name": "stderr",
          "text": [
            "WARNING:absl:You are saving your model as an HDF5 file via `model.save()` or `keras.saving.save_model(model)`. This file format is considered legacy. We recommend using instead the native Keras format, e.g. `model.save('my_model.keras')` or `keras.saving.save_model(model, 'my_model.keras')`. \n"
          ]
        },
        {
          "output_type": "stream",
          "name": "stdout",
          "text": [
            "\b\b\b\b\b\b\b\b\b\b\b\b\b\b\b\b\b\b\b\b\b\b\b\b\b\b\b\b\b\b\b\b\b\b\b\b\b\b\b\b\b\b\b\b\b\b\b\b\b\b\b\b\b\b\b\b\b\b\b\b\b\b\b\b\b\b\b\b\b\b\b\b\b\b\b\b\r\u001b[1m135/135\u001b[0m \u001b[32m━━━━━━━━━━━━━━━━━━━━\u001b[0m\u001b[37m\u001b[0m \u001b[1m80s\u001b[0m 268ms/step - accuracy: 0.2738 - loss: 2.1330 - val_accuracy: 0.2500 - val_loss: 1.5747 - learning_rate: 5.0000e-04\n",
            "Epoch 2/30\n",
            "\u001b[1m135/135\u001b[0m \u001b[32m━━━━━━━━━━━━━━━━━━━━\u001b[0m\u001b[37m\u001b[0m \u001b[1m0s\u001b[0m 222ms/step - accuracy: 0.3112 - loss: 1.7600\n",
            "Epoch 2: val_accuracy did not improve from 0.25000\n",
            "\u001b[1m135/135\u001b[0m \u001b[32m━━━━━━━━━━━━━━━━━━━━\u001b[0m\u001b[37m\u001b[0m \u001b[1m31s\u001b[0m 231ms/step - accuracy: 0.3112 - loss: 1.7600 - val_accuracy: 0.2500 - val_loss: 1.6330 - learning_rate: 5.0000e-04\n",
            "Epoch 3/30\n",
            "\u001b[1m135/135\u001b[0m \u001b[32m━━━━━━━━━━━━━━━━━━━━\u001b[0m\u001b[37m\u001b[0m \u001b[1m0s\u001b[0m 222ms/step - accuracy: 0.3361 - loss: 1.6222\n",
            "Epoch 3: val_accuracy improved from 0.25000 to 0.27963, saving model to best_eeg_model.h5\n"
          ]
        },
        {
          "output_type": "stream",
          "name": "stderr",
          "text": [
            "WARNING:absl:You are saving your model as an HDF5 file via `model.save()` or `keras.saving.save_model(model)`. This file format is considered legacy. We recommend using instead the native Keras format, e.g. `model.save('my_model.keras')` or `keras.saving.save_model(model, 'my_model.keras')`. \n"
          ]
        },
        {
          "output_type": "stream",
          "name": "stdout",
          "text": [
            "\b\b\b\b\b\b\b\b\b\b\b\b\b\b\b\b\b\b\b\b\b\b\b\b\b\b\b\b\b\b\b\b\b\b\b\b\b\b\b\b\b\b\b\b\b\b\b\b\b\b\b\b\b\b\b\b\b\b\b\b\b\b\b\b\b\b\b\b\b\b\b\b\b\b\b\b\r\u001b[1m135/135\u001b[0m \u001b[32m━━━━━━━━━━━━━━━━━━━━\u001b[0m\u001b[37m\u001b[0m \u001b[1m43s\u001b[0m 243ms/step - accuracy: 0.3361 - loss: 1.6220 - val_accuracy: 0.2796 - val_loss: 1.6915 - learning_rate: 5.0000e-04\n",
            "Epoch 4/30\n",
            "\u001b[1m135/135\u001b[0m \u001b[32m━━━━━━━━━━━━━━━━━━━━\u001b[0m\u001b[37m\u001b[0m \u001b[1m0s\u001b[0m 223ms/step - accuracy: 0.3345 - loss: 1.6001\n",
            "Epoch 4: val_accuracy improved from 0.27963 to 0.32870, saving model to best_eeg_model.h5\n"
          ]
        },
        {
          "output_type": "stream",
          "name": "stderr",
          "text": [
            "WARNING:absl:You are saving your model as an HDF5 file via `model.save()` or `keras.saving.save_model(model)`. This file format is considered legacy. We recommend using instead the native Keras format, e.g. `model.save('my_model.keras')` or `keras.saving.save_model(model, 'my_model.keras')`. \n"
          ]
        },
        {
          "output_type": "stream",
          "name": "stdout",
          "text": [
            "\b\b\b\b\b\b\b\b\b\b\b\b\b\b\b\b\b\b\b\b\b\b\b\b\b\b\b\b\b\b\b\b\b\b\b\b\b\b\b\b\b\b\b\b\b\b\b\b\b\b\b\b\b\b\b\b\b\b\b\b\b\b\b\b\b\b\b\b\b\b\b\b\b\b\b\b\r\u001b[1m135/135\u001b[0m \u001b[32m━━━━━━━━━━━━━━━━━━━━\u001b[0m\u001b[37m\u001b[0m \u001b[1m33s\u001b[0m 242ms/step - accuracy: 0.3346 - loss: 1.5999 - val_accuracy: 0.3287 - val_loss: 1.4438 - learning_rate: 5.0000e-04\n",
            "Epoch 5/30\n",
            "\u001b[1m135/135\u001b[0m \u001b[32m━━━━━━━━━━━━━━━━━━━━\u001b[0m\u001b[37m\u001b[0m \u001b[1m0s\u001b[0m 223ms/step - accuracy: 0.3963 - loss: 1.4138\n",
            "Epoch 5: val_accuracy improved from 0.32870 to 0.35000, saving model to best_eeg_model.h5\n"
          ]
        },
        {
          "output_type": "stream",
          "name": "stderr",
          "text": [
            "WARNING:absl:You are saving your model as an HDF5 file via `model.save()` or `keras.saving.save_model(model)`. This file format is considered legacy. We recommend using instead the native Keras format, e.g. `model.save('my_model.keras')` or `keras.saving.save_model(model, 'my_model.keras')`. \n"
          ]
        },
        {
          "output_type": "stream",
          "name": "stdout",
          "text": [
            "\b\b\b\b\b\b\b\b\b\b\b\b\b\b\b\b\b\b\b\b\b\b\b\b\b\b\b\b\b\b\b\b\b\b\b\b\b\b\b\b\b\b\b\b\b\b\b\b\b\b\b\b\b\b\b\b\b\b\b\b\b\b\b\b\b\b\b\b\b\b\b\b\b\b\b\b\r\u001b[1m135/135\u001b[0m \u001b[32m━━━━━━━━━━━━━━━━━━━━\u001b[0m\u001b[37m\u001b[0m \u001b[1m33s\u001b[0m 243ms/step - accuracy: 0.3963 - loss: 1.4139 - val_accuracy: 0.3500 - val_loss: 1.3554 - learning_rate: 5.0000e-04\n",
            "Epoch 6/30\n",
            "\u001b[1m135/135\u001b[0m \u001b[32m━━━━━━━━━━━━━━━━━━━━\u001b[0m\u001b[37m\u001b[0m \u001b[1m0s\u001b[0m 224ms/step - accuracy: 0.4120 - loss: 1.3701\n",
            "Epoch 6: val_accuracy improved from 0.35000 to 0.38981, saving model to best_eeg_model.h5\n"
          ]
        },
        {
          "output_type": "stream",
          "name": "stderr",
          "text": [
            "WARNING:absl:You are saving your model as an HDF5 file via `model.save()` or `keras.saving.save_model(model)`. This file format is considered legacy. We recommend using instead the native Keras format, e.g. `model.save('my_model.keras')` or `keras.saving.save_model(model, 'my_model.keras')`. \n"
          ]
        },
        {
          "output_type": "stream",
          "name": "stdout",
          "text": [
            "\b\b\b\b\b\b\b\b\b\b\b\b\b\b\b\b\b\b\b\b\b\b\b\b\b\b\b\b\b\b\b\b\b\b\b\b\b\b\b\b\b\b\b\b\b\b\b\b\b\b\b\b\b\b\b\b\b\b\b\b\b\b\b\b\b\b\b\b\b\b\b\b\b\b\b\b\r\u001b[1m135/135\u001b[0m \u001b[32m━━━━━━━━━━━━━━━━━━━━\u001b[0m\u001b[37m\u001b[0m \u001b[1m42s\u001b[0m 247ms/step - accuracy: 0.4120 - loss: 1.3699 - val_accuracy: 0.3898 - val_loss: 1.3238 - learning_rate: 5.0000e-04\n",
            "Epoch 7/30\n",
            "\u001b[1m135/135\u001b[0m \u001b[32m━━━━━━━━━━━━━━━━━━━━\u001b[0m\u001b[37m\u001b[0m \u001b[1m0s\u001b[0m 223ms/step - accuracy: 0.4300 - loss: 1.2984\n",
            "Epoch 7: val_accuracy did not improve from 0.38981\n",
            "\u001b[1m135/135\u001b[0m \u001b[32m━━━━━━━━━━━━━━━━━━━━\u001b[0m\u001b[37m\u001b[0m \u001b[1m39s\u001b[0m 233ms/step - accuracy: 0.4300 - loss: 1.2985 - val_accuracy: 0.3898 - val_loss: 1.3616 - learning_rate: 5.0000e-04\n",
            "Epoch 8/30\n",
            "\u001b[1m135/135\u001b[0m \u001b[32m━━━━━━━━━━━━━━━━━━━━\u001b[0m\u001b[37m\u001b[0m \u001b[1m0s\u001b[0m 223ms/step - accuracy: 0.4403 - loss: 1.2748\n",
            "Epoch 8: val_accuracy improved from 0.38981 to 0.41481, saving model to best_eeg_model.h5\n"
          ]
        },
        {
          "output_type": "stream",
          "name": "stderr",
          "text": [
            "WARNING:absl:You are saving your model as an HDF5 file via `model.save()` or `keras.saving.save_model(model)`. This file format is considered legacy. We recommend using instead the native Keras format, e.g. `model.save('my_model.keras')` or `keras.saving.save_model(model, 'my_model.keras')`. \n"
          ]
        },
        {
          "output_type": "stream",
          "name": "stdout",
          "text": [
            "\b\b\b\b\b\b\b\b\b\b\b\b\b\b\b\b\b\b\b\b\b\b\b\b\b\b\b\b\b\b\b\b\b\b\b\b\b\b\b\b\b\b\b\b\b\b\b\b\b\b\b\b\b\b\b\b\b\b\b\b\b\b\b\b\b\b\b\b\b\b\b\b\b\b\b\b\r\u001b[1m135/135\u001b[0m \u001b[32m━━━━━━━━━━━━━━━━━━━━\u001b[0m\u001b[37m\u001b[0m \u001b[1m42s\u001b[0m 243ms/step - accuracy: 0.4403 - loss: 1.2747 - val_accuracy: 0.4148 - val_loss: 1.2899 - learning_rate: 5.0000e-04\n",
            "Epoch 9/30\n",
            "\u001b[1m135/135\u001b[0m \u001b[32m━━━━━━━━━━━━━━━━━━━━\u001b[0m\u001b[37m\u001b[0m \u001b[1m0s\u001b[0m 223ms/step - accuracy: 0.4635 - loss: 1.2280\n",
            "Epoch 9: val_accuracy did not improve from 0.41481\n",
            "\u001b[1m135/135\u001b[0m \u001b[32m━━━━━━━━━━━━━━━━━━━━\u001b[0m\u001b[37m\u001b[0m \u001b[1m39s\u001b[0m 230ms/step - accuracy: 0.4635 - loss: 1.2278 - val_accuracy: 0.4028 - val_loss: 1.3388 - learning_rate: 5.0000e-04\n",
            "Epoch 10/30\n",
            "\u001b[1m135/135\u001b[0m \u001b[32m━━━━━━━━━━━━━━━━━━━━\u001b[0m\u001b[37m\u001b[0m \u001b[1m0s\u001b[0m 223ms/step - accuracy: 0.5165 - loss: 1.1321\n",
            "Epoch 10: val_accuracy did not improve from 0.41481\n",
            "\u001b[1m135/135\u001b[0m \u001b[32m━━━━━━━━━━━━━━━━━━━━\u001b[0m\u001b[37m\u001b[0m \u001b[1m41s\u001b[0m 233ms/step - accuracy: 0.5164 - loss: 1.1323 - val_accuracy: 0.4009 - val_loss: 1.4295 - learning_rate: 5.0000e-04\n",
            "Epoch 11/30\n",
            "\u001b[1m135/135\u001b[0m \u001b[32m━━━━━━━━━━━━━━━━━━━━\u001b[0m\u001b[37m\u001b[0m \u001b[1m0s\u001b[0m 223ms/step - accuracy: 0.5105 - loss: 1.1435\n",
            "Epoch 11: val_accuracy improved from 0.41481 to 0.47870, saving model to best_eeg_model.h5\n"
          ]
        },
        {
          "output_type": "stream",
          "name": "stderr",
          "text": [
            "WARNING:absl:You are saving your model as an HDF5 file via `model.save()` or `keras.saving.save_model(model)`. This file format is considered legacy. We recommend using instead the native Keras format, e.g. `model.save('my_model.keras')` or `keras.saving.save_model(model, 'my_model.keras')`. \n"
          ]
        },
        {
          "output_type": "stream",
          "name": "stdout",
          "text": [
            "\b\b\b\b\b\b\b\b\b\b\b\b\b\b\b\b\b\b\b\b\b\b\b\b\b\b\b\b\b\b\b\b\b\b\b\b\b\b\b\b\b\b\b\b\b\b\b\b\b\b\b\b\b\b\b\b\b\b\b\b\b\b\b\b\b\b\b\b\b\b\b\b\b\b\b\b\r\u001b[1m135/135\u001b[0m \u001b[32m━━━━━━━━━━━━━━━━━━━━\u001b[0m\u001b[37m\u001b[0m \u001b[1m42s\u001b[0m 241ms/step - accuracy: 0.5105 - loss: 1.1433 - val_accuracy: 0.4787 - val_loss: 1.1720 - learning_rate: 5.0000e-04\n",
            "Epoch 12/30\n",
            "\u001b[1m135/135\u001b[0m \u001b[32m━━━━━━━━━━━━━━━━━━━━\u001b[0m\u001b[37m\u001b[0m \u001b[1m0s\u001b[0m 224ms/step - accuracy: 0.5323 - loss: 1.0738\n",
            "Epoch 12: val_accuracy did not improve from 0.47870\n",
            "\u001b[1m135/135\u001b[0m \u001b[32m━━━━━━━━━━━━━━━━━━━━\u001b[0m\u001b[37m\u001b[0m \u001b[1m40s\u001b[0m 233ms/step - accuracy: 0.5323 - loss: 1.0737 - val_accuracy: 0.4556 - val_loss: 1.3200 - learning_rate: 5.0000e-04\n",
            "Epoch 13/30\n",
            "\u001b[1m135/135\u001b[0m \u001b[32m━━━━━━━━━━━━━━━━━━━━\u001b[0m\u001b[37m\u001b[0m \u001b[1m0s\u001b[0m 223ms/step - accuracy: 0.5678 - loss: 1.0326\n",
            "Epoch 13: val_accuracy did not improve from 0.47870\n",
            "\u001b[1m135/135\u001b[0m \u001b[32m━━━━━━━━━━━━━━━━━━━━\u001b[0m\u001b[37m\u001b[0m \u001b[1m41s\u001b[0m 233ms/step - accuracy: 0.5678 - loss: 1.0326 - val_accuracy: 0.4093 - val_loss: 1.7442 - learning_rate: 5.0000e-04\n",
            "Epoch 14/30\n",
            "\u001b[1m135/135\u001b[0m \u001b[32m━━━━━━━━━━━━━━━━━━━━\u001b[0m\u001b[37m\u001b[0m \u001b[1m0s\u001b[0m 223ms/step - accuracy: 0.5699 - loss: 1.0159\n",
            "Epoch 14: val_accuracy improved from 0.47870 to 0.48981, saving model to best_eeg_model.h5\n"
          ]
        },
        {
          "output_type": "stream",
          "name": "stderr",
          "text": [
            "WARNING:absl:You are saving your model as an HDF5 file via `model.save()` or `keras.saving.save_model(model)`. This file format is considered legacy. We recommend using instead the native Keras format, e.g. `model.save('my_model.keras')` or `keras.saving.save_model(model, 'my_model.keras')`. \n"
          ]
        },
        {
          "output_type": "stream",
          "name": "stdout",
          "text": [
            "\b\b\b\b\b\b\b\b\b\b\b\b\b\b\b\b\b\b\b\b\b\b\b\b\b\b\b\b\b\b\b\b\b\b\b\b\b\b\b\b\b\b\b\b\b\b\b\b\b\b\b\b\b\b\b\b\b\b\b\b\b\b\b\b\b\b\b\b\b\b\b\b\b\b\b\b\r\u001b[1m135/135\u001b[0m \u001b[32m━━━━━━━━━━━━━━━━━━━━\u001b[0m\u001b[37m\u001b[0m \u001b[1m42s\u001b[0m 243ms/step - accuracy: 0.5700 - loss: 1.0158 - val_accuracy: 0.4898 - val_loss: 1.2889 - learning_rate: 5.0000e-04\n",
            "Epoch 15/30\n",
            "\u001b[1m135/135\u001b[0m \u001b[32m━━━━━━━━━━━━━━━━━━━━\u001b[0m\u001b[37m\u001b[0m \u001b[1m0s\u001b[0m 223ms/step - accuracy: 0.5951 - loss: 0.9628\n",
            "Epoch 15: val_accuracy improved from 0.48981 to 0.54537, saving model to best_eeg_model.h5\n"
          ]
        },
        {
          "output_type": "stream",
          "name": "stderr",
          "text": [
            "WARNING:absl:You are saving your model as an HDF5 file via `model.save()` or `keras.saving.save_model(model)`. This file format is considered legacy. We recommend using instead the native Keras format, e.g. `model.save('my_model.keras')` or `keras.saving.save_model(model, 'my_model.keras')`. \n"
          ]
        },
        {
          "output_type": "stream",
          "name": "stdout",
          "text": [
            "\b\b\b\b\b\b\b\b\b\b\b\b\b\b\b\b\b\b\b\b\b\b\b\b\b\b\b\b\b\b\b\b\b\b\b\b\b\b\b\b\b\b\b\b\b\b\b\b\b\b\b\b\b\b\b\b\b\b\b\b\b\b\b\b\b\b\b\b\b\b\b\b\b\b\b\b\r\u001b[1m135/135\u001b[0m \u001b[32m━━━━━━━━━━━━━━━━━━━━\u001b[0m\u001b[37m\u001b[0m \u001b[1m33s\u001b[0m 242ms/step - accuracy: 0.5951 - loss: 0.9628 - val_accuracy: 0.5454 - val_loss: 1.0417 - learning_rate: 5.0000e-04\n",
            "Epoch 16/30\n",
            "\u001b[1m135/135\u001b[0m \u001b[32m━━━━━━━━━━━━━━━━━━━━\u001b[0m\u001b[37m\u001b[0m \u001b[1m0s\u001b[0m 224ms/step - accuracy: 0.6100 - loss: 0.9145\n",
            "Epoch 16: val_accuracy improved from 0.54537 to 0.55463, saving model to best_eeg_model.h5\n"
          ]
        },
        {
          "output_type": "stream",
          "name": "stderr",
          "text": [
            "WARNING:absl:You are saving your model as an HDF5 file via `model.save()` or `keras.saving.save_model(model)`. This file format is considered legacy. We recommend using instead the native Keras format, e.g. `model.save('my_model.keras')` or `keras.saving.save_model(model, 'my_model.keras')`. \n"
          ]
        },
        {
          "output_type": "stream",
          "name": "stdout",
          "text": [
            "\b\b\b\b\b\b\b\b\b\b\b\b\b\b\b\b\b\b\b\b\b\b\b\b\b\b\b\b\b\b\b\b\b\b\b\b\b\b\b\b\b\b\b\b\b\b\b\b\b\b\b\b\b\b\b\b\b\b\b\b\b\b\b\b\b\b\b\b\b\b\b\b\b\b\b\b\r\u001b[1m135/135\u001b[0m \u001b[32m━━━━━━━━━━━━━━━━━━━━\u001b[0m\u001b[37m\u001b[0m \u001b[1m42s\u001b[0m 246ms/step - accuracy: 0.6100 - loss: 0.9147 - val_accuracy: 0.5546 - val_loss: 1.0654 - learning_rate: 5.0000e-04\n",
            "Epoch 17/30\n",
            "\u001b[1m135/135\u001b[0m \u001b[32m━━━━━━━━━━━━━━━━━━━━\u001b[0m\u001b[37m\u001b[0m \u001b[1m0s\u001b[0m 223ms/step - accuracy: 0.6353 - loss: 0.8741\n",
            "Epoch 17: val_accuracy did not improve from 0.55463\n",
            "\u001b[1m135/135\u001b[0m \u001b[32m━━━━━━━━━━━━━━━━━━━━\u001b[0m\u001b[37m\u001b[0m \u001b[1m32s\u001b[0m 233ms/step - accuracy: 0.6353 - loss: 0.8742 - val_accuracy: 0.4769 - val_loss: 1.4609 - learning_rate: 5.0000e-04\n",
            "Epoch 18/30\n",
            "\u001b[1m135/135\u001b[0m \u001b[32m━━━━━━━━━━━━━━━━━━━━\u001b[0m\u001b[37m\u001b[0m \u001b[1m0s\u001b[0m 223ms/step - accuracy: 0.6515 - loss: 0.8599\n",
            "Epoch 18: val_accuracy did not improve from 0.55463\n",
            "\u001b[1m135/135\u001b[0m \u001b[32m━━━━━━━━━━━━━━━━━━━━\u001b[0m\u001b[37m\u001b[0m \u001b[1m41s\u001b[0m 232ms/step - accuracy: 0.6514 - loss: 0.8600 - val_accuracy: 0.5231 - val_loss: 1.2785 - learning_rate: 5.0000e-04\n",
            "Epoch 19/30\n",
            "\u001b[1m135/135\u001b[0m \u001b[32m━━━━━━━━━━━━━━━━━━━━\u001b[0m\u001b[37m\u001b[0m \u001b[1m0s\u001b[0m 223ms/step - accuracy: 0.6640 - loss: 0.8018\n",
            "Epoch 19: val_accuracy did not improve from 0.55463\n",
            "\u001b[1m135/135\u001b[0m \u001b[32m━━━━━━━━━━━━━━━━━━━━\u001b[0m\u001b[37m\u001b[0m \u001b[1m41s\u001b[0m 232ms/step - accuracy: 0.6639 - loss: 0.8020 - val_accuracy: 0.4509 - val_loss: 1.7628 - learning_rate: 5.0000e-04\n",
            "Epoch 20/30\n",
            "\u001b[1m135/135\u001b[0m \u001b[32m━━━━━━━━━━━━━━━━━━━━\u001b[0m\u001b[37m\u001b[0m \u001b[1m0s\u001b[0m 223ms/step - accuracy: 0.6766 - loss: 0.7948\n",
            "Epoch 20: ReduceLROnPlateau reducing learning rate to 0.00010000000474974513.\n",
            "\n",
            "Epoch 20: val_accuracy improved from 0.55463 to 0.56204, saving model to best_eeg_model.h5\n"
          ]
        },
        {
          "output_type": "stream",
          "name": "stderr",
          "text": [
            "WARNING:absl:You are saving your model as an HDF5 file via `model.save()` or `keras.saving.save_model(model)`. This file format is considered legacy. We recommend using instead the native Keras format, e.g. `model.save('my_model.keras')` or `keras.saving.save_model(model, 'my_model.keras')`. \n"
          ]
        },
        {
          "output_type": "stream",
          "name": "stdout",
          "text": [
            "\b\b\b\b\b\b\b\b\b\b\b\b\b\b\b\b\b\b\b\b\b\b\b\b\b\b\b\b\b\b\b\b\b\b\b\b\b\b\b\b\b\b\b\b\b\b\b\b\b\b\b\b\b\b\b\b\b\b\b\b\b\b\b\b\b\b\b\b\b\b\b\b\b\b\b\b\r\u001b[1m135/135\u001b[0m \u001b[32m━━━━━━━━━━━━━━━━━━━━\u001b[0m\u001b[37m\u001b[0m \u001b[1m33s\u001b[0m 243ms/step - accuracy: 0.6765 - loss: 0.7949 - val_accuracy: 0.5620 - val_loss: 1.0831 - learning_rate: 5.0000e-04\n",
            "Epoch 21/30\n",
            "\u001b[1m135/135\u001b[0m \u001b[32m━━━━━━━━━━━━━━━━━━━━\u001b[0m\u001b[37m\u001b[0m \u001b[1m0s\u001b[0m 223ms/step - accuracy: 0.7032 - loss: 0.7332\n",
            "Epoch 21: val_accuracy improved from 0.56204 to 0.57500, saving model to best_eeg_model.h5\n"
          ]
        },
        {
          "output_type": "stream",
          "name": "stderr",
          "text": [
            "WARNING:absl:You are saving your model as an HDF5 file via `model.save()` or `keras.saving.save_model(model)`. This file format is considered legacy. We recommend using instead the native Keras format, e.g. `model.save('my_model.keras')` or `keras.saving.save_model(model, 'my_model.keras')`. \n"
          ]
        },
        {
          "output_type": "stream",
          "name": "stdout",
          "text": [
            "\b\b\b\b\b\b\b\b\b\b\b\b\b\b\b\b\b\b\b\b\b\b\b\b\b\b\b\b\b\b\b\b\b\b\b\b\b\b\b\b\b\b\b\b\b\b\b\b\b\b\b\b\b\b\b\b\b\b\b\b\b\b\b\b\b\b\b\b\b\b\b\b\b\b\b\b\r\u001b[1m135/135\u001b[0m \u001b[32m━━━━━━━━━━━━━━━━━━━━\u001b[0m\u001b[37m\u001b[0m \u001b[1m41s\u001b[0m 244ms/step - accuracy: 0.7033 - loss: 0.7331 - val_accuracy: 0.5750 - val_loss: 1.0687 - learning_rate: 1.0000e-04\n",
            "Epoch 22/30\n",
            "\u001b[1m135/135\u001b[0m \u001b[32m━━━━━━━━━━━━━━━━━━━━\u001b[0m\u001b[37m\u001b[0m \u001b[1m0s\u001b[0m 224ms/step - accuracy: 0.7234 - loss: 0.6756\n",
            "Epoch 22: val_accuracy did not improve from 0.57500\n",
            "\u001b[1m135/135\u001b[0m \u001b[32m━━━━━━━━━━━━━━━━━━━━\u001b[0m\u001b[37m\u001b[0m \u001b[1m40s\u001b[0m 233ms/step - accuracy: 0.7234 - loss: 0.6756 - val_accuracy: 0.5509 - val_loss: 1.2345 - learning_rate: 1.0000e-04\n",
            "Epoch 23/30\n",
            "\u001b[1m135/135\u001b[0m \u001b[32m━━━━━━━━━━━━━━━━━━━━\u001b[0m\u001b[37m\u001b[0m \u001b[1m0s\u001b[0m 223ms/step - accuracy: 0.7325 - loss: 0.6567\n",
            "Epoch 23: val_accuracy improved from 0.57500 to 0.59259, saving model to best_eeg_model.h5\n"
          ]
        },
        {
          "output_type": "stream",
          "name": "stderr",
          "text": [
            "WARNING:absl:You are saving your model as an HDF5 file via `model.save()` or `keras.saving.save_model(model)`. This file format is considered legacy. We recommend using instead the native Keras format, e.g. `model.save('my_model.keras')` or `keras.saving.save_model(model, 'my_model.keras')`. \n"
          ]
        },
        {
          "output_type": "stream",
          "name": "stdout",
          "text": [
            "\b\b\b\b\b\b\b\b\b\b\b\b\b\b\b\b\b\b\b\b\b\b\b\b\b\b\b\b\b\b\b\b\b\b\b\b\b\b\b\b\b\b\b\b\b\b\b\b\b\b\b\b\b\b\b\b\b\b\b\b\b\b\b\b\b\b\b\b\b\b\b\b\b\b\b\b\r\u001b[1m135/135\u001b[0m \u001b[32m━━━━━━━━━━━━━━━━━━━━\u001b[0m\u001b[37m\u001b[0m \u001b[1m42s\u001b[0m 240ms/step - accuracy: 0.7325 - loss: 0.6567 - val_accuracy: 0.5926 - val_loss: 1.0589 - learning_rate: 1.0000e-04\n",
            "Epoch 24/30\n",
            "\u001b[1m135/135\u001b[0m \u001b[32m━━━━━━━━━━━━━━━━━━━━\u001b[0m\u001b[37m\u001b[0m \u001b[1m0s\u001b[0m 223ms/step - accuracy: 0.7541 - loss: 0.6252\n",
            "Epoch 24: val_accuracy improved from 0.59259 to 0.61852, saving model to best_eeg_model.h5\n"
          ]
        },
        {
          "output_type": "stream",
          "name": "stderr",
          "text": [
            "WARNING:absl:You are saving your model as an HDF5 file via `model.save()` or `keras.saving.save_model(model)`. This file format is considered legacy. We recommend using instead the native Keras format, e.g. `model.save('my_model.keras')` or `keras.saving.save_model(model, 'my_model.keras')`. \n"
          ]
        },
        {
          "output_type": "stream",
          "name": "stdout",
          "text": [
            "\b\b\b\b\b\b\b\b\b\b\b\b\b\b\b\b\b\b\b\b\b\b\b\b\b\b\b\b\b\b\b\b\b\b\b\b\b\b\b\b\b\b\b\b\b\b\b\b\b\b\b\b\b\b\b\b\b\b\b\b\b\b\b\b\b\b\b\b\b\b\b\b\b\b\b\b\r\u001b[1m135/135\u001b[0m \u001b[32m━━━━━━━━━━━━━━━━━━━━\u001b[0m\u001b[37m\u001b[0m \u001b[1m33s\u001b[0m 248ms/step - accuracy: 0.7540 - loss: 0.6253 - val_accuracy: 0.6185 - val_loss: 0.9796 - learning_rate: 1.0000e-04\n",
            "Epoch 25/30\n",
            "\u001b[1m135/135\u001b[0m \u001b[32m━━━━━━━━━━━━━━━━━━━━\u001b[0m\u001b[37m\u001b[0m \u001b[1m0s\u001b[0m 223ms/step - accuracy: 0.7426 - loss: 0.6220\n",
            "Epoch 25: val_accuracy did not improve from 0.61852\n",
            "\u001b[1m135/135\u001b[0m \u001b[32m━━━━━━━━━━━━━━━━━━━━\u001b[0m\u001b[37m\u001b[0m \u001b[1m39s\u001b[0m 232ms/step - accuracy: 0.7426 - loss: 0.6221 - val_accuracy: 0.5898 - val_loss: 1.0863 - learning_rate: 1.0000e-04\n",
            "Epoch 26/30\n",
            "\u001b[1m135/135\u001b[0m \u001b[32m━━━━━━━━━━━━━━━━━━━━\u001b[0m\u001b[37m\u001b[0m \u001b[1m0s\u001b[0m 223ms/step - accuracy: 0.7687 - loss: 0.5865\n",
            "Epoch 26: val_accuracy did not improve from 0.61852\n",
            "\u001b[1m135/135\u001b[0m \u001b[32m━━━━━━━━━━━━━━━━━━━━\u001b[0m\u001b[37m\u001b[0m \u001b[1m31s\u001b[0m 231ms/step - accuracy: 0.7687 - loss: 0.5866 - val_accuracy: 0.6120 - val_loss: 1.0699 - learning_rate: 1.0000e-04\n",
            "Epoch 27/30\n",
            "\u001b[1m135/135\u001b[0m \u001b[32m━━━━━━━━━━━━━━━━━━━━\u001b[0m\u001b[37m\u001b[0m \u001b[1m0s\u001b[0m 223ms/step - accuracy: 0.7739 - loss: 0.5748\n",
            "Epoch 27: val_accuracy did not improve from 0.61852\n",
            "\u001b[1m135/135\u001b[0m \u001b[32m━━━━━━━━━━━━━━━━━━━━\u001b[0m\u001b[37m\u001b[0m \u001b[1m31s\u001b[0m 231ms/step - accuracy: 0.7739 - loss: 0.5748 - val_accuracy: 0.6157 - val_loss: 1.0885 - learning_rate: 1.0000e-04\n",
            "Epoch 28/30\n",
            "\u001b[1m135/135\u001b[0m \u001b[32m━━━━━━━━━━━━━━━━━━━━\u001b[0m\u001b[37m\u001b[0m \u001b[1m0s\u001b[0m 223ms/step - accuracy: 0.7702 - loss: 0.5767\n",
            "Epoch 28: val_accuracy did not improve from 0.61852\n",
            "\u001b[1m135/135\u001b[0m \u001b[32m━━━━━━━━━━━━━━━━━━━━\u001b[0m\u001b[37m\u001b[0m \u001b[1m41s\u001b[0m 233ms/step - accuracy: 0.7702 - loss: 0.5766 - val_accuracy: 0.5917 - val_loss: 1.1851 - learning_rate: 1.0000e-04\n",
            "Epoch 29/30\n",
            "\u001b[1m135/135\u001b[0m \u001b[32m━━━━━━━━━━━━━━━━━━━━\u001b[0m\u001b[37m\u001b[0m \u001b[1m0s\u001b[0m 223ms/step - accuracy: 0.7751 - loss: 0.5536\n",
            "Epoch 29: ReduceLROnPlateau reducing learning rate to 2.0000000949949027e-05.\n",
            "\n",
            "Epoch 29: val_accuracy did not improve from 0.61852\n",
            "\u001b[1m135/135\u001b[0m \u001b[32m━━━━━━━━━━━━━━━━━━━━\u001b[0m\u001b[37m\u001b[0m \u001b[1m41s\u001b[0m 231ms/step - accuracy: 0.7751 - loss: 0.5536 - val_accuracy: 0.6167 - val_loss: 1.1378 - learning_rate: 1.0000e-04\n",
            "Epoch 30/30\n",
            "\u001b[1m135/135\u001b[0m \u001b[32m━━━━━━━━━━━━━━━━━━━━\u001b[0m\u001b[37m\u001b[0m \u001b[1m0s\u001b[0m 223ms/step - accuracy: 0.8020 - loss: 0.5089\n",
            "Epoch 30: val_accuracy improved from 0.61852 to 0.63056, saving model to best_eeg_model.h5\n"
          ]
        },
        {
          "output_type": "stream",
          "name": "stderr",
          "text": [
            "WARNING:absl:You are saving your model as an HDF5 file via `model.save()` or `keras.saving.save_model(model)`. This file format is considered legacy. We recommend using instead the native Keras format, e.g. `model.save('my_model.keras')` or `keras.saving.save_model(model, 'my_model.keras')`. \n"
          ]
        },
        {
          "output_type": "stream",
          "name": "stdout",
          "text": [
            "\b\b\b\b\b\b\b\b\b\b\b\b\b\b\b\b\b\b\b\b\b\b\b\b\b\b\b\b\b\b\b\b\b\b\b\b\b\b\b\b\b\b\b\b\b\b\b\b\b\b\b\b\b\b\b\b\b\b\b\b\b\b\b\b\b\b\b\b\b\b\b\b\b\b\b\b\r\u001b[1m135/135\u001b[0m \u001b[32m━━━━━━━━━━━━━━━━━━━━\u001b[0m\u001b[37m\u001b[0m \u001b[1m43s\u001b[0m 243ms/step - accuracy: 0.8020 - loss: 0.5090 - val_accuracy: 0.6306 - val_loss: 1.0360 - learning_rate: 2.0000e-05\n",
            "Restoring model weights from the end of the best epoch: 30.\n",
            "\u001b[1m34/34\u001b[0m \u001b[32m━━━━━━━━━━━━━━━━━━━━\u001b[0m\u001b[37m\u001b[0m \u001b[1m1s\u001b[0m 31ms/step - accuracy: 0.6231 - loss: 1.0384\n",
            "Validation Accuracy: 63.06%\n"
          ]
        },
        {
          "output_type": "display_data",
          "data": {
            "text/plain": [
              "<Figure size 1200x400 with 2 Axes>"
            ],
            "image/png": "[encoded data removed]"
          },
          "metadata": {}
        },
        {
          "output_type": "stream",
          "name": "stdout",
          "text": [
            "\u001b[1m34/34\u001b[0m \u001b[32m━━━━━━━━━━━━━━━━━━━━\u001b[0m\u001b[37m\u001b[0m \u001b[1m4s\u001b[0m 67ms/step\n",
            "Confusion Matrix:\n",
            "[[101  59  50  60]\n",
            " [  9 218   3  40]\n",
            " [ 46  22 118  84]\n",
            " [  2   8  16 244]]\n"
          ]
        },
        {
          "output_type": "display_data",
          "data": {
            "text/plain": [
              "<Figure size 1000x800 with 0 Axes>"
            ]
          },
          "metadata": {}
        },
        {
          "output_type": "display_data",
          "data": {
            "text/plain": [
              "<Figure size 640x480 with 2 Axes>"
            ],
            "image/png": "[encoded data removed]"
          },
          "metadata": {}
        },
        {
          "output_type": "stream",
          "name": "stderr",
          "text": [
            "WARNING:absl:You are saving your model as an HDF5 file via `model.save()` or `keras.saving.save_model(model)`. This file format is considered legacy. We recommend using instead the native Keras format, e.g. `model.save('my_model.keras')` or `keras.saving.save_model(model, 'my_model.keras')`. \n"
          ]
        },
        {
          "output_type": "stream",
          "name": "stdout",
          "text": [
            "\n",
            "Classification Report:\n",
            "              precision    recall  f1-score   support\n",
            "\n",
            "   Left Hand       0.64      0.37      0.47       270\n",
            "  Right Hand       0.71      0.81      0.76       270\n",
            "  Both Hands       0.63      0.44      0.52       270\n",
            "        Feet       0.57      0.90      0.70       270\n",
            "\n",
            "    accuracy                           0.63      1080\n",
            "   macro avg       0.64      0.63      0.61      1080\n",
            "weighted avg       0.64      0.63      0.61      1080\n",
            "\n",
            "Model saved as 'eeg_classifier_improved.h5'\n"
          ]
        }
      ]
    },
    {
      "cell_type": "code",
      "source": [
        "import numpy as np\n",
        "import tensorflow as tf\n",
        "from tensorflow.keras.models import Model\n",
        "from tensorflow.keras.layers import Input, Conv3D, BatchNormalization, MaxPooling3D, Dense, Dropout\n",
        "from tensorflow.keras.layers import Flatten, Add, Activation, GlobalAveragePooling3D, Concatenate\n",
        "from tensorflow.keras.layers import MultiHeadAttention, Reshape, Permute, LayerNormalization\n",
        "from tensorflow.keras.utils import to_categorical\n",
        "from tensorflow.keras.optimizers import Adam\n",
        "from tensorflow.keras.callbacks import EarlyStopping, ReduceLROnPlateau, ModelCheckpoint\n",
        "from tensorflow.keras.regularizers import l2\n",
        "from sklearn.model_selection import train_test_split\n",
        "from sklearn.preprocessing import StandardScaler\n",
        "import matplotlib.pyplot as plt\n",
        "\n",
        "# Load data\n",
        "X_resampled = np.load('X_resampled (1).npy')\n",
        "y_resampled = np.load('y_resampled (1).npy')\n",
        "\n",
        "# Make sure classes start from 0\n",
        "if np.min(y_resampled) == 1:\n",
        "    y_resampled = y_resampled - 1\n",
        "\n",
        "# Get dimensions\n",
        "n_samples, n_features = X_resampled.shape\n",
        "num_channels = 64\n",
        "time_steps = n_features // num_channels\n",
        "print(f\"Features: {n_features}, Channels: {num_channels}, Time steps: {time_steps}\")\n",
        "\n",
        "# Apply more sophisticated normalization\n",
        "# Channel-wise standardization\n",
        "X_normalized = np.zeros_like(X_resampled)\n",
        "X_reshaped_temp = X_resampled.reshape(n_samples, num_channels, -1)\n",
        "for i in range(num_channels):\n",
        "    scaler = StandardScaler()\n",
        "    X_normalized[:, i*time_steps:(i+1)*time_steps] = scaler.fit_transform(X_reshaped_temp[:, i, :])\n",
        "\n",
        "# Reshape for 3D CNN\n",
        "X_reshaped = X_normalized.reshape(n_samples, num_channels, time_steps, 1, 1)\n",
        "print(f\"X_reshaped shape: {X_reshaped.shape}\")\n",
        "\n",
        "# One-hot encode labels\n",
        "y_categorical = to_categorical(y_resampled)\n",
        "print(f\"y_categorical shape: {y_categorical.shape}\")\n",
        "\n",
        "# Create training, validation, and test sets with stratification\n",
        "X_train, X_temp, y_train, y_temp = train_test_split(\n",
        "    X_reshaped, y_categorical, test_size=0.3, random_state=42, stratify=y_resampled\n",
        ")\n",
        "# Further split temp data into validation and test\n",
        "X_val, X_test, y_val, y_test = train_test_split(\n",
        "    X_temp, y_temp, test_size=0.33, random_state=42\n",
        ")\n",
        "print(f\"Train shapes: {X_train.shape}, {y_train.shape}\")\n",
        "print(f\"Validation shapes: {X_val.shape}, {y_val.shape}\")\n",
        "print(f\"Test shapes: {X_test.shape}, {y_test.shape}\")\n",
        "\n",
        "# Data Augmentation Function\n",
        "def augment_eeg(x, noise_factor=0.05, shift_limit=5):\n",
        "    batch_size = x.shape[0]\n",
        "    augmented = np.copy(x)\n",
        "\n",
        "    # Add random noise\n",
        "    noise = np.random.normal(0, noise_factor, augmented.shape)\n",
        "    augmented += noise\n",
        "\n",
        "    # Time shifting (along time dimension)\n",
        "    for i in range(batch_size):\n",
        "        shift = np.random.randint(-shift_limit, shift_limit)\n",
        "        if shift != 0:\n",
        "            # Shift along time dimension (axis 2)\n",
        "            augmented[i, :, :, :, :] = np.roll(augmented[i, :, :, :, :], shift, axis=1)\n",
        "\n",
        "    return augmented\n",
        "\n",
        "# Generate augmented data for training\n",
        "X_train_aug = augment_eeg(X_train)\n",
        "X_train_combined = np.vstack([X_train, X_train_aug])\n",
        "y_train_combined = np.vstack([y_train, y_train])\n",
        "print(f\"Augmented training set: {X_train_combined.shape}\")\n",
        "\n",
        "# Enhanced Residual Block with more regularization\n",
        "def residual_block(x, filters, kernel_size=(3, 3, 1), dropout_rate=0.3, l2_reg=0.001):\n",
        "    shortcut = x\n",
        "\n",
        "    # First conv layer with L2 regularization\n",
        "    x = Conv3D(filters, kernel_size, padding='same', kernel_regularizer=l2(l2_reg))(x)\n",
        "    x = BatchNormalization()(x)\n",
        "    x = Activation('relu')(x)\n",
        "    x = Dropout(dropout_rate)(x)\n",
        "\n",
        "    # Second conv layer\n",
        "    x = Conv3D(filters, kernel_size, padding='same', kernel_regularizer=l2(l2_reg))(x)\n",
        "    x = BatchNormalization()(x)\n",
        "\n",
        "    # Adjust shortcut dimensions if needed\n",
        "    if shortcut.shape[-1] != filters:\n",
        "        shortcut = Conv3D(filters, (1, 1, 1), padding='same')(shortcut)\n",
        "        shortcut = BatchNormalization()(shortcut)\n",
        "\n",
        "    x = Add()([x, shortcut])\n",
        "    x = Activation('relu')(x)\n",
        "\n",
        "    return x\n",
        "\n",
        "# Self-attention module for EEG\n",
        "def attention_module(x, name):\n",
        "    # Reshape for attention\n",
        "    orig_shape = x.shape\n",
        "    channels = orig_shape[-1]\n",
        "    x_reshaped = Reshape((-1, channels))(x)\n",
        "\n",
        "    # Self attention\n",
        "    attention_output = MultiHeadAttention(\n",
        "        num_heads=4, key_dim=channels, dropout=0.1, name=f\"{name}_mha\"\n",
        "    )(x_reshaped, x_reshaped)\n",
        "\n",
        "    # Add & norm\n",
        "    x_reshaped = LayerNormalization()(x_reshaped + attention_output)\n",
        "\n",
        "    # Reshape back\n",
        "    x_out = Reshape(orig_shape[1:-1] + (channels,))(x_reshaped)\n",
        "    return x_out\n",
        "\n",
        "# Build an ensemble of two parallel paths with shared and specific components\n",
        "def build_dual_path_model(input_shape, num_classes):\n",
        "    input_layer = Input(shape=input_shape)\n",
        "\n",
        "    # Shared initial layers\n",
        "    x = Conv3D(64, (3, 3, 1), padding='same')(input_layer)\n",
        "    x = BatchNormalization()(x)\n",
        "    x = Activation('relu')(x)\n",
        "    x = MaxPooling3D((2, 2, 1))(x)\n",
        "\n",
        "    # Path 1: Residual blocks\n",
        "    path1 = residual_block(x, 64, dropout_rate=0.3)\n",
        "    path1 = MaxPooling3D((2, 2, 1))(path1)\n",
        "\n",
        "    path1 = residual_block(path1, 128, dropout_rate=0.4)\n",
        "    path1 = MaxPooling3D((2, 2, 1))(path1)\n",
        "\n",
        "    path1 = residual_block(path1, 256, dropout_rate=0.4)\n",
        "    path1 = Reshape((path1.shape[1], path1.shape[2], -1))(path1)\n",
        "    path1 = attention_module(path1, \"path1\")\n",
        "    path1 = Reshape((path1.shape[1], path1.shape[2], 1, -1))(path1)\n",
        "    path1 = GlobalAveragePooling3D()(path1)\n",
        "\n",
        "    # Path 2: Deeper residual network\n",
        "    path2 = residual_block(x, 64, dropout_rate=0.3)\n",
        "    path2 = residual_block(path2, 64, dropout_rate=0.3)\n",
        "    path2 = MaxPooling3D((2, 2, 1))(path2)\n",
        "\n",
        "    path2 = residual_block(path2, 128, dropout_rate=0.4)\n",
        "    path2 = residual_block(path2, 128, dropout_rate=0.4)\n",
        "    path2 = MaxPooling3D((2, 2, 1))(path2)\n",
        "\n",
        "    path2 = residual_block(path2, 256, dropout_rate=0.5)\n",
        "    path2 = Flatten()(path2)\n",
        "\n",
        "    # Merge paths\n",
        "    merged = Concatenate()([path1, path2])\n",
        "\n",
        "    # Classification head\n",
        "    x = Dense(512, activation='relu', kernel_regularizer=l2(0.001))(merged)\n",
        "    x = BatchNormalization()(x)\n",
        "    x = Dropout(0.5)(x)\n",
        "    x = Dense(256, activation='relu', kernel_regularizer=l2(0.001))(x)\n",
        "    x = BatchNormalization()(x)\n",
        "    x = Dropout(0.5)(x)\n",
        "    output_layer = Dense(num_classes, activation='softmax')(x)\n",
        "\n",
        "    model = Model(inputs=input_layer, outputs=output_layer)\n",
        "    return model\n",
        "\n",
        "# Create model\n",
        "model = build_dual_path_model(\n",
        "    input_shape=(num_channels, time_steps, 1, 1),\n",
        "    num_classes=y_categorical.shape[1]\n",
        ")\n",
        "\n",
        "# Compile with a cyclical learning rate schedule\n",
        "initial_learning_rate = 0.0001\n",
        "lr_schedule = tf.keras.optimizers.schedules.CosineDecayRestarts(\n",
        "    initial_learning_rate,\n",
        "    first_decay_steps=5*len(X_train_combined)//32,  # 5 epochs worth of steps\n",
        "    t_mul=2.0,  # Double the cycle length each restart\n",
        "    m_mul=0.9,  # Slightly decrease max lr each restart\n",
        "    alpha=0.0001  # Minimum lr value\n",
        ")\n",
        "\n",
        "model.compile(\n",
        "    optimizer=Adam(learning_rate=lr_schedule),\n",
        "    loss='categorical_crossentropy',\n",
        "    metrics=['accuracy']\n",
        ")\n",
        "\n",
        "# Enhanced callbacks\n",
        "callbacks = [\n",
        "    # Early stopping with longer patience\n",
        "    EarlyStopping(\n",
        "        monitor='val_accuracy',\n",
        "        patience=15,\n",
        "        restore_best_weights=True,\n",
        "        verbose=1\n",
        "    ),\n",
        "    # Reduce learning rate when plateauing\n",
        "    ReduceLROnPlateau(\n",
        "        monitor='val_loss',\n",
        "        factor=0.2,\n",
        "        patience=7,\n",
        "        min_lr=1e-6,\n",
        "        verbose=1\n",
        "    ),\n",
        "    # Save best model\n",
        "    ModelCheckpoint(\n",
        "        'best_eeg_model_advanced.h5',\n",
        "        monitor='val_accuracy',\n",
        "        save_best_only=True,\n",
        "        verbose=1\n",
        "    )\n",
        "]\n",
        "\n",
        "# Train with augmented data and callbacks\n",
        "history = model.fit(\n",
        "    X_train_combined, y_train_combined,\n",
        "    validation_data=(X_val, y_val),\n",
        "    epochs=30,  # More epochs with early stopping\n",
        "    batch_size=32,\n",
        "    callbacks=callbacks,\n",
        "    verbose=1\n",
        ")\n",
        "\n",
        "# Evaluate on test set\n",
        "test_loss, test_acc = model.evaluate(X_test, y_test)\n",
        "print(f\"Test Accuracy: {test_acc * 100:.2f}%\")\n",
        "\n",
        "# Plot training history with smoother curves\n",
        "def smooth_curve(points, factor=0.8):\n",
        "    smoothed_points = []\n",
        "    for point in points:\n",
        "        if smoothed_points:\n",
        "            previous = smoothed_points[-1]\n",
        "            smoothed_points.append(previous * factor + point * (1 - factor))\n",
        "        else:\n",
        "            smoothed_points.append(point)\n",
        "    return smoothed_points\n",
        "\n",
        "plt.figure(figsize=(12, 4))\n",
        "plt.subplot(1, 2, 1)\n",
        "plt.plot(history.history['accuracy'], label='Training Accuracy', alpha=0.3)\n",
        "plt.plot(smooth_curve(history.history['accuracy']), label='Smoothed Training Accuracy')\n",
        "plt.plot(history.history['val_accuracy'], label='Validation Accuracy', alpha=0.3)\n",
        "plt.plot(smooth_curve(history.history['val_accuracy']), label='Smoothed Validation Accuracy')\n",
        "plt.title('Model Accuracy')\n",
        "plt.xlabel('Epoch')\n",
        "plt.ylabel('Accuracy')\n",
        "plt.legend()\n",
        "\n",
        "plt.subplot(1, 2, 2)\n",
        "plt.plot(history.history['loss'], label='Training Loss', alpha=0.3)\n",
        "plt.plot(smooth_curve(history.history['loss']), label='Smoothed Training Loss')\n",
        "plt.plot(history.history['val_loss'], label='Validation Loss', alpha=0.3)\n",
        "plt.plot(smooth_curve(history.history['val_loss']), label='Smoothed Validation Loss')\n",
        "plt.title('Model Loss')\n",
        "plt.xlabel('Epoch')\n",
        "plt.ylabel('Loss')\n",
        "plt.legend()\n",
        "\n",
        "plt.tight_layout()\n",
        "plt.savefig('advanced_training_history.png')\n",
        "plt.show()\n",
        "\n",
        "# Generate confusion matrix with better visualization\n",
        "from sklearn.metrics import confusion_matrix, classification_report, ConfusionMatrixDisplay\n",
        "import seaborn as sns\n",
        "\n",
        "# Predictions\n",
        "y_pred = model.predict(X_test)\n",
        "y_pred_classes = np.argmax(y_pred, axis=1)\n",
        "y_true_classes = np.argmax(y_test, axis=1)\n",
        "\n",
        "# Class names for visualization\n",
        "class_names = ['Left Hand', 'Right Hand', 'Both Hands', 'Feet']\n",
        "\n",
        "# Create confusion matrix\n",
        "cm = confusion_matrix(y_true_classes, y_pred_classes)\n",
        "print(\"Confusion Matrix:\")\n",
        "print(cm)\n",
        "\n",
        "# Create a normalized confusion matrix\n",
        "cm_normalized = cm.astype('float') / cm.sum(axis=1)[:, np.newaxis]\n",
        "\n",
        "# Plot enhanced confusion matrix\n",
        "plt.figure(figsize=(10, 8))\n",
        "sns.heatmap(cm_normalized, annot=cm, fmt='d', cmap='Blues',\n",
        "            xticklabels=class_names, yticklabels=class_names, annot_kws={\"size\": 16})\n",
        "plt.xlabel('Predicted', fontsize=14)\n",
        "plt.ylabel('True', fontsize=14)\n",
        "plt.title('Confusion Matrix', fontsize=16)\n",
        "plt.xticks(fontsize=12)\n",
        "plt.yticks(fontsize=12)\n",
        "plt.tight_layout()\n",
        "plt.savefig('advanced_confusion_matrix.png', dpi=300)\n",
        "plt.show()\n",
        "\n",
        "# Print classification report\n",
        "print(\"\\nClassification Report:\")\n",
        "print(classification_report(y_true_classes, y_pred_classes, target_names=class_names))\n",
        "\n",
        "# Save the model\n",
        "model.save('eeg_classifier_advanced.h5')\n",
        "print(\"Advanced model saved as 'eeg_classifier_advanced.h5'\")"
      ],
      "metadata": {
        "colab": {
          "base_uri": "https://localhost:8080/",
          "height": 341
        },
        "id": "jF6fiKjCZiqw",
        "outputId": "8feb80fb-0d99-4f59-81d3-60d32f4c5c21"
      },
      "execution_count": null,
      "outputs": [
        {
          "output_type": "error",
          "ename": "FileNotFoundError",
          "evalue": "[Errno 2] No such file or directory: 'X_resampled (1).npy'",
          "traceback": [
            "\u001b[0;31m---------------------------------------------------------------------------\u001b[0m",
            "\u001b[0;31mFileNotFoundError\u001b[0m                         Traceback (most recent call last)",
            "\u001b[0;32m<ipython-input-2-f84defc02d1b>\u001b[0m in \u001b[0;36m<cell line: 0>\u001b[0;34m()\u001b[0m\n\u001b[1;32m     14\u001b[0m \u001b[0;34m\u001b[0m\u001b[0m\n\u001b[1;32m     15\u001b[0m \u001b[0;31m# Load data\u001b[0m\u001b[0;34m\u001b[0m\u001b[0;34m\u001b[0m\u001b[0m\n\u001b[0;32m---> 16\u001b[0;31m \u001b[0mX_resampled\u001b[0m \u001b[0;34m=\u001b[0m \u001b[0mnp\u001b[0m\u001b[0;34m.\u001b[0m\u001b[0mload\u001b[0m\u001b[0;34m(\u001b[0m\u001b[0;34m'X_resampled (1).npy'\u001b[0m\u001b[0;34m)\u001b[0m\u001b[0;34m\u001b[0m\u001b[0;34m\u001b[0m\u001b[0m\n\u001b[0m\u001b[1;32m     17\u001b[0m \u001b[0my_resampled\u001b[0m \u001b[0;34m=\u001b[0m \u001b[0mnp\u001b[0m\u001b[0;34m.\u001b[0m\u001b[0mload\u001b[0m\u001b[0;34m(\u001b[0m\u001b[0;34m'y_resampled (1).npy'\u001b[0m\u001b[0;34m)\u001b[0m\u001b[0;34m\u001b[0m\u001b[0;34m\u001b[0m\u001b[0m\n\u001b[1;32m     18\u001b[0m \u001b[0;34m\u001b[0m\u001b[0m\n",
            "\u001b[0;32m/usr/local/lib/python3.11/dist-packages/numpy/lib/_npyio_impl.py\u001b[0m in \u001b[0;36mload\u001b[0;34m(file, mmap_mode, allow_pickle, fix_imports, encoding, max_header_size)\u001b[0m\n\u001b[1;32m    453\u001b[0m             \u001b[0mown_fid\u001b[0m \u001b[0;34m=\u001b[0m \u001b[0;32mFalse\u001b[0m\u001b[0;34m\u001b[0m\u001b[0;34m\u001b[0m\u001b[0m\n\u001b[1;32m    454\u001b[0m         \u001b[0;32melse\u001b[0m\u001b[0;34m:\u001b[0m\u001b[0;34m\u001b[0m\u001b[0;34m\u001b[0m\u001b[0m\n\u001b[0;32m--> 455\u001b[0;31m             \u001b[0mfid\u001b[0m \u001b[0;34m=\u001b[0m \u001b[0mstack\u001b[0m\u001b[0;34m.\u001b[0m\u001b[0menter_context\u001b[0m\u001b[0;34m(\u001b[0m\u001b[0mopen\u001b[0m\u001b[0;34m(\u001b[0m\u001b[0mos\u001b[0m\u001b[0;34m.\u001b[0m\u001b[0mfspath\u001b[0m\u001b[0;34m(\u001b[0m\u001b[0mfile\u001b[0m\u001b[0;34m)\u001b[0m\u001b[0;34m,\u001b[0m \u001b[0;34m\"rb\"\u001b[0m\u001b[0;34m)\u001b[0m\u001b[0;34m)\u001b[0m\u001b[0;34m\u001b[0m\u001b[0;34m\u001b[0m\u001b[0m\n\u001b[0m\u001b[1;32m    456\u001b[0m             \u001b[0mown_fid\u001b[0m \u001b[0;34m=\u001b[0m \u001b[0;32mTrue\u001b[0m\u001b[0;34m\u001b[0m\u001b[0;34m\u001b[0m\u001b[0m\n\u001b[1;32m    457\u001b[0m \u001b[0;34m\u001b[0m\u001b[0m\n",
            "\u001b[0;31mFileNotFoundError\u001b[0m: [Errno 2] No such file or directory: 'X_resampled (1).npy'"
          ]
        }
      ]
    },
    {
      "cell_type": "markdown",
      "metadata": {
        "id": "xBAdWs4cR1kY"
      },
      "source": [
        "STCNN"
      ]
    },
    {
      "cell_type": "code",
      "execution_count": null,
      "metadata": {
        "id": "3WXRAc-PRwDa",
        "colab": {
          "base_uri": "https://localhost:8080/"
        },
        "outputId": "35819378-e09a-43fe-a7ba-26dd4cc878c6"
      },
      "outputs": [
        {
          "output_type": "stream",
          "name": "stderr",
          "text": [
            "/usr/local/lib/python3.11/dist-packages/keras/src/layers/convolutional/base_conv.py:107: UserWarning: Do not pass an `input_shape`/`input_dim` argument to a layer. When using Sequential models, prefer using an `Input(shape)` object as the first layer in the model instead.\n",
            "  super().__init__(activity_regularizer=activity_regularizer, **kwargs)\n"
          ]
        },
        {
          "output_type": "stream",
          "name": "stdout",
          "text": [
            "Epoch 1/20\n",
            "\u001b[1m237/237\u001b[0m \u001b[32m━━━━━━━━━━━━━━━━━━━━\u001b[0m\u001b[37m\u001b[0m \u001b[1m25s\u001b[0m 82ms/step - accuracy: 0.3008 - loss: 7.4140 - val_accuracy: 0.4368 - val_loss: 8.1348\n",
            "Epoch 2/20\n",
            "\u001b[1m237/237\u001b[0m \u001b[32m━━━━━━━━━━━━━━━━━━━━\u001b[0m\u001b[37m\u001b[0m \u001b[1m33s\u001b[0m 60ms/step - accuracy: 0.3575 - loss: 1.3766 - val_accuracy: 0.1456 - val_loss: 1.6527\n",
            "Epoch 3/20\n",
            "\u001b[1m237/237\u001b[0m \u001b[32m━━━━━━━━━━━━━━━━━━━━\u001b[0m\u001b[37m\u001b[0m \u001b[1m21s\u001b[0m 61ms/step - accuracy: 0.3507 - loss: 1.3431 - val_accuracy: 0.0580 - val_loss: 1.7402\n",
            "Epoch 4/20\n",
            "\u001b[1m237/237\u001b[0m \u001b[32m━━━━━━━━━━━━━━━━━━━━\u001b[0m\u001b[37m\u001b[0m \u001b[1m20s\u001b[0m 60ms/step - accuracy: 0.3464 - loss: 1.3504 - val_accuracy: 0.0561 - val_loss: 1.6154\n",
            "Epoch 5/20\n",
            "\u001b[1m237/237\u001b[0m \u001b[32m━━━━━━━━━━━━━━━━━━━━\u001b[0m\u001b[37m\u001b[0m \u001b[1m21s\u001b[0m 61ms/step - accuracy: 0.3694 - loss: 1.2894 - val_accuracy: 0.0617 - val_loss: 1.5899\n",
            "Epoch 6/20\n",
            "\u001b[1m237/237\u001b[0m \u001b[32m━━━━━━━━━━━━━━━━━━━━\u001b[0m\u001b[37m\u001b[0m \u001b[1m20s\u001b[0m 60ms/step - accuracy: 0.3805 - loss: 1.3001 - val_accuracy: 0.0648 - val_loss: 1.6213\n",
            "Epoch 7/20\n",
            "\u001b[1m237/237\u001b[0m \u001b[32m━━━━━━━━━━━━━━━━━━━━\u001b[0m\u001b[37m\u001b[0m \u001b[1m14s\u001b[0m 60ms/step - accuracy: 0.3708 - loss: 1.2817 - val_accuracy: 0.0635 - val_loss: 1.5744\n",
            "Epoch 8/20\n",
            "\u001b[1m237/237\u001b[0m \u001b[32m━━━━━━━━━━━━━━━━━━━━\u001b[0m\u001b[37m\u001b[0m \u001b[1m21s\u001b[0m 61ms/step - accuracy: 0.3607 - loss: 1.2773 - val_accuracy: 0.0679 - val_loss: 1.5373\n",
            "Epoch 9/20\n",
            "\u001b[1m237/237\u001b[0m \u001b[32m━━━━━━━━━━━━━━━━━━━━\u001b[0m\u001b[37m\u001b[0m \u001b[1m20s\u001b[0m 61ms/step - accuracy: 0.3532 - loss: 1.2808 - val_accuracy: 0.0580 - val_loss: 1.6026\n",
            "Epoch 10/20\n",
            "\u001b[1m237/237\u001b[0m \u001b[32m━━━━━━━━━━━━━━━━━━━━\u001b[0m\u001b[37m\u001b[0m \u001b[1m20s\u001b[0m 60ms/step - accuracy: 0.3538 - loss: 1.2818 - val_accuracy: 0.0623 - val_loss: 1.5785\n",
            "Epoch 11/20\n",
            "\u001b[1m237/237\u001b[0m \u001b[32m━━━━━━━━━━━━━━━━━━━━\u001b[0m\u001b[37m\u001b[0m \u001b[1m14s\u001b[0m 60ms/step - accuracy: 0.3873 - loss: 1.2462 - val_accuracy: 0.0611 - val_loss: 1.5494\n",
            "Epoch 12/20\n",
            "\u001b[1m237/237\u001b[0m \u001b[32m━━━━━━━━━━━━━━━━━━━━\u001b[0m\u001b[37m\u001b[0m \u001b[1m14s\u001b[0m 61ms/step - accuracy: 0.3837 - loss: 1.2594 - val_accuracy: 0.0598 - val_loss: 1.5558\n",
            "Epoch 13/20\n",
            "\u001b[1m237/237\u001b[0m \u001b[32m━━━━━━━━━━━━━━━━━━━━\u001b[0m\u001b[37m\u001b[0m \u001b[1m14s\u001b[0m 60ms/step - accuracy: 0.3989 - loss: 1.2449 - val_accuracy: 0.0592 - val_loss: 1.5657\n",
            "Epoch 14/20\n",
            "\u001b[1m237/237\u001b[0m \u001b[32m━━━━━━━━━━━━━━━━━━━━\u001b[0m\u001b[37m\u001b[0m \u001b[1m20s\u001b[0m 60ms/step - accuracy: 0.3845 - loss: 1.2427 - val_accuracy: 0.0672 - val_loss: 1.5779\n",
            "Epoch 15/20\n",
            "\u001b[1m237/237\u001b[0m \u001b[32m━━━━━━━━━━━━━━━━━━━━\u001b[0m\u001b[37m\u001b[0m \u001b[1m21s\u001b[0m 60ms/step - accuracy: 0.3777 - loss: 1.2699 - val_accuracy: 0.0568 - val_loss: 1.5290\n",
            "Epoch 16/20\n",
            "\u001b[1m237/237\u001b[0m \u001b[32m━━━━━━━━━━━━━━━━━━━━\u001b[0m\u001b[37m\u001b[0m \u001b[1m14s\u001b[0m 61ms/step - accuracy: 0.3868 - loss: 1.2399 - val_accuracy: 0.0598 - val_loss: 1.4788\n",
            "Epoch 17/20\n",
            "\u001b[1m237/237\u001b[0m \u001b[32m━━━━━━━━━━━━━━━━━━━━\u001b[0m\u001b[37m\u001b[0m \u001b[1m14s\u001b[0m 60ms/step - accuracy: 0.3821 - loss: 1.2277 - val_accuracy: 0.0642 - val_loss: 1.4974\n",
            "Epoch 18/20\n",
            "\u001b[1m237/237\u001b[0m \u001b[32m━━━━━━━━━━━━━━━━━━━━\u001b[0m\u001b[37m\u001b[0m \u001b[1m21s\u001b[0m 61ms/step - accuracy: 0.4082 - loss: 1.2152 - val_accuracy: 0.0635 - val_loss: 1.5216\n",
            "Epoch 19/20\n",
            "\u001b[1m237/237\u001b[0m \u001b[32m━━━━━━━━━━━━━━━━━━━━\u001b[0m\u001b[37m\u001b[0m \u001b[1m20s\u001b[0m 61ms/step - accuracy: 0.4111 - loss: 1.1917 - val_accuracy: 0.0598 - val_loss: 1.4975\n",
            "Epoch 20/20\n",
            "\u001b[1m237/237\u001b[0m \u001b[32m━━━━━━━━━━━━━━━━━━━━\u001b[0m\u001b[37m\u001b[0m \u001b[1m15s\u001b[0m 61ms/step - accuracy: 0.4099 - loss: 1.2036 - val_accuracy: 0.0586 - val_loss: 1.5282\n",
            "\u001b[1m169/169\u001b[0m \u001b[32m━━━━━━━━━━━━━━━━━━━━\u001b[0m\u001b[37m\u001b[0m \u001b[1m3s\u001b[0m 12ms/step - accuracy: 0.4573 - loss: 1.0862\n",
            "Test Accuracy: 35.31%\n"
          ]
        }
      ],
      "source": [
        "num_samples = X_resampled.shape[0]\n",
        "# For example, if we choose 64 channels:\n",
        "num_channels = 64\n",
        "time_steps = total_features // num_channels  # inferred time_steps from feature vector length\n",
        "X_reshaped = X_resampled.reshape(num_samples, num_channels, time_steps, 1, 1)\n",
        "\n",
        "# Standardize each channel independently\n",
        "for i in range(num_channels):\n",
        "    X_reshaped[:, i, :, 0, 0] = StandardScaler().fit_transform(X_reshaped[:, i, :, 0, 0])\n",
        "\n",
        "# Convert labels to one-hot vectors.\n",
        "# Note: With our new mapping, there are 4 classes.\n",
        "y_categorical = to_categorical(y_resampled, num_classes=4)\n",
        "\n",
        "# Build a basic STCNN Model.\n",
        "# IMPORTANT: Since we have 4 classes, we use softmax activation at the output\n",
        "# and compile with \"categorical_crossentropy\".\n",
        "model = Sequential([\n",
        "    Conv3D(32, (3, 3, 1), activation='relu', input_shape=(num_channels, time_steps, 1, 1)),\n",
        "    BatchNormalization(),\n",
        "    MaxPooling3D((2, 2, 1)),\n",
        "\n",
        "    Conv3D(64, (3, 3, 1), activation='relu'),\n",
        "    BatchNormalization(),\n",
        "    MaxPooling3D((2, 2, 1)),\n",
        "\n",
        "    Conv3D(128, (3, 3, 1), activation='relu'),\n",
        "    BatchNormalization(),\n",
        "    MaxPooling3D((2, 2, 1)),\n",
        "\n",
        "    Flatten(),\n",
        "    Dense(256, activation='relu'),\n",
        "    Dropout(0.5),\n",
        "    Dense(4, activation='softmax')  # 4 output classes: 0, 1, 2, 3\n",
        "])\n",
        "\n",
        "model.compile(optimizer='adam', loss='categorical_crossentropy', metrics=['accuracy'])\n",
        "\n",
        "# Train the model\n",
        "history = model.fit(X_reshaped, y_categorical, epochs=20, batch_size=16, validation_split=0.3)\n",
        "\n",
        "# Evaluate the model\n",
        "test_loss, test_acc = model.evaluate(X_reshaped, y_categorical)\n",
        "print(f\"Test Accuracy: {test_acc * 100:.2f}%\")\n",
        "\n"
      ]
    },
    {
      "cell_type": "code",
      "execution_count": null,
      "metadata": {
        "id": "2fUrvg2t4PT7"
      },
      "outputs": [],
      "source": [
        "# Plot training history\n",
        "plt.figure(figsize=(8, 5))\n",
        "plt.plot(history.history['accuracy'], label='Training Accuracy')\n",
        "plt.plot(history.history['val_accuracy'], label='Validation Accuracy')\n",
        "plt.xlabel('Epochs')\n",
        "plt.ylabel('Accuracy')\n",
        "plt.title('Training vs. Validation Accuracy')\n",
        "plt.legend()\n",
        "plt.grid()\n",
        "plt.savefig('./eeg_data/training_vs_validation_accuracy.png')\n",
        "plt.show()"
      ]
    },
    {
      "cell_type": "code",
      "execution_count": null,
      "metadata": {
        "id": "_hDMATQe4UPC"
      },
      "outputs": [],
      "source": [
        "y_pred = np.argmax(model.predict(X_reshaped), axis=1)\n",
        "y_true = np.argmax(y_categorical, axis=1)\n",
        "cm = confusion_matrix(y_true, y_pred)\n",
        "print(cm)\n",
        "plt.figure(figsize=(8, 6))\n",
        "sns.heatmap(cm, annot=True, fmt=\"d\", cmap=\"Blues\", xticklabels=range(4), yticklabels=range(4))\n",
        "plt.xlabel('Predicted')\n",
        "plt.ylabel('Actual')\n",
        "plt.title('Confusion Matrix')\n",
        "plt.savefig('./eeg_data/confusion_matrix.png')\n",
        "plt.show()"
      ]
    },
    {
      "cell_type": "code",
      "execution_count": null,
      "metadata": {
        "id": "sx5QZMrQph_c"
      },
      "outputs": [],
      "source": [
        "model.summary()"
      ]
    },
    {
      "cell_type": "markdown",
      "metadata": {
        "id": "W_NUXfJVi1uE"
      },
      "source": [
        "import numpy as np\n",
        "import tensorflow as tf\n",
        "from tensorflow.keras.models import Sequential\n",
        "from tensorflow.keras.layers import (\n",
        "    Conv3D, BatchNormalization, MaxPooling3D, GlobalAveragePooling3D,\n",
        "    Flatten, Dense, Dropout, LeakyReLU\n",
        ")\n",
        "from tensorflow.keras.callbacks import EarlyStopping, ReduceLROnPlateau\n",
        "from tensorflow.keras.utils import to_categorical\n",
        "from sklearn.preprocessing import StandardScaler\n",
        "\n",
        "\n",
        "num_samples, total_features = X_resampled.shape\n",
        "num_channels = 64  # Adjust based on EEG setup\n",
        "time_steps = total_features // num_channels\n",
        "\n",
        "\n",
        "# Standardize data (better normalization)\n",
        "scaler = StandardScaler()\n",
        "X_scaled = scaler.fit_transform(X_resampled)\n",
        "\n",
        "# Reshape data for 3D CNN\n",
        "X_reshaped = X_scaled.reshape(num_samples, num_channels, time_steps, 1, 1)\n",
        "\n",
        "# Convert labels to categorical (One-Hot Encoding)\n",
        "y_categorical = to_categorical(y_resampled)\n",
        "\n",
        "# Build Improved STCNN Model\n",
        "model = Sequential([\n",
        "    # First Conv Layer\n",
        "    Conv3D(32, (3, 3, 3), padding=\"same\", activation=\"relu\", input_shape=(num_channels, time_steps, 1, 1)),\n",
        "    BatchNormalization(),\n",
        "    MaxPooling3D((2, 2, 1)),\n",
        "\n",
        "    # Second Conv Layer\n",
        "    Conv3D(64, (3, 3, 3), padding=\"same\",activation='relu'),\n",
        "\n",
        "    BatchNormalization(),\n",
        "    MaxPooling3D((2, 2, 1)),\n",
        "\n",
        "    # Third Conv Layer\n",
        "    Conv3D(128, (3, 3, 3), padding=\"same\",activation='relu'),\n",
        "\n",
        "    BatchNormalization(),\n",
        "    MaxPooling3D((2, 2, 1)),\n",
        "\n",
        "    # Global Average Pooling instead of Flatten\n",
        "    Flatten(),\n",
        "\n",
        "    # Fully Connected Layer\n",
        "    Dense(256, activation=\"relu\"),\n",
        "    Dropout(0.5),\n",
        "\n",
        "    # Output Layer\n",
        "    Dense(y_categorical.shape[1], activation=\"softmax\")\n",
        "])\n",
        "\n",
        "# Compile the model\n",
        "model.compile(optimizer=\"adam\", loss=\"categorical_crossentropy\", metrics=[\"accuracy\"])\n",
        "\n",
        "\n",
        "\n",
        "# Train the model\n",
        "history = model.fit(\n",
        "    X_reshaped, y_categorical,\n",
        "    epochs=20,\n",
        "    batch_size=32,\n",
        "    validation_split=0.3\n",
        "\n",
        ")\n",
        "\n",
        "# Evaluate Model\n",
        "test_loss, test_acc = model.evaluate(X_reshaped, y_categorical)\n",
        "print(f\"Test Accuracy: {test_acc * 100:.2f}%\")\n"
      ]
    },
    {
      "cell_type": "code",
      "execution_count": null,
      "metadata": {
        "id": "TeoCHLp4PEGM"
      },
      "outputs": [],
      "source": [
        "import numpy as np\n",
        "from tensorflow.keras.utils import to_categorical\n",
        "\n",
        "# Load resampled data\n",
        "X_resampled = np.load('./eeg_data/X_resampled.npy')\n",
        "y_resampled = np.load('./eeg_data/y_resampled.npy')\n",
        "\n",
        "# Reshape X_resampled to (samples, channels, time, 1)\n",
        "\n",
        "\n",
        "# Convert labels to categorical\n",
        "num_classes = len(np.unique(y_resampled))\n",
        "y_resampled -= 1  # Convert labels from [1, 2] to [0, 1]\n",
        "num_classes = len(np.unique(y_resampled))  # Recalculate\n",
        "y_resampled = to_categorical(y_resampled, num_classes)\n",
        "\n",
        "\n",
        "\n",
        "print(\"Final X shape:\", X_resampled.shape)\n",
        "print(\"Final y shape:\", y_resampled.shape)\n"
      ]
    },
    {
      "cell_type": "code",
      "execution_count": null,
      "metadata": {
        "id": "-tgxb6AS8fJS"
      },
      "outputs": [],
      "source": [
        "import pywt\n",
        "import numpy as np\n",
        "import matplotlib.pyplot as plt\n",
        "\n",
        "# Select a signal (for example, the first channel of the first epoch)\n",
        "signal = epochs.get_data()[0, 0, :]  # [epoch_idx, channel_idx, :]\n",
        "\n",
        "# Define wavelet scales and compute CWT\n",
        "scales = np.arange(1, 128)\n",
        "coeffs, freqs = pywt.cwt(signal, scales, 'morl')\n",
        "\n",
        "# Visualize CWT as a heatmap\n",
        "plt.figure(figsize=(10, 6))\n",
        "plt.imshow(np.abs(coeffs), extent=[0, signal.shape[0], scales[-1], scales[0]], cmap='jet', aspect='auto')\n",
        "plt.colorbar(label='Coefficient magnitude')\n",
        "plt.title('CWT of First Channel, First Epoch')\n",
        "plt.xlabel('Time (samples)')\n",
        "plt.ylabel('Scales')\n",
        "plt.savefig('./eeg_data/cwt_visualization.png')\n",
        "plt.show()\n"
      ]
    },
    {
      "cell_type": "code",
      "execution_count": null,
      "metadata": {
        "id": "Ls_-btw68ydP"
      },
      "outputs": [],
      "source": [
        "import matplotlib.pyplot as plt\n",
        "import numpy as np\n",
        "import pywt\n",
        "\n",
        "def plot_scalogram(signal, scales, wavelet='morl'):\n",
        "    # Perform continuous wavelet transform\n",
        "    coeffs, freqs = pywt.cwt(signal, scales, wavelet)\n",
        "\n",
        "    # Plot the scalogram\n",
        "    plt.figure(figsize=(10, 6))\n",
        "    plt.imshow(np.abs(coeffs), extent=[0, len(signal), scales[0], scales[-1]], cmap='jet', aspect='auto')\n",
        "    plt.colorbar(label='Magnitude')\n",
        "    plt.title('Scalogram (CWT) - Channel Signal')\n",
        "    plt.xlabel('Time')\n",
        "    plt.ylabel('Scale')\n",
        "    plt.show()\n",
        "\n",
        "# Select one epoch and one channel (example: first epoch, first channel)\n",
        "epoch_data = epochs.get_data()[0]  # First epoch\n",
        "channel_signal = epoch_data[0]  # First channel in the epoch\n",
        "\n",
        "# Define wavelet scales\n",
        "scales = np.arange(1, 128)\n",
        "\n",
        "# Plot the scalogram for this channel\n",
        "plot_scalogram(channel_signal, scales)"
      ]
    },
    {
      "cell_type": "code",
      "execution_count": null,
      "metadata": {
        "id": "S3XKdemK9osC"
      },
      "outputs": [],
      "source": [
        "import matplotlib.pyplot as plt\n",
        "import numpy as np\n",
        "import pywt\n",
        "\n",
        "# Define frequency bands (in Hz)\n",
        "freq_bands = {\n",
        "    'Delta': (0.5, 4),\n",
        "    'Theta': (4, 8),\n",
        "    'Alpha': (8, 12),\n",
        "    'Beta': (12, 30),\n",
        "    'Gamma': (30, 45)\n",
        "}\n",
        "\n",
        "def plot_scalogram_for_band(signal, scales, freqs, band_name, band_freqs):\n",
        "    # Filter the scales corresponding to the band\n",
        "    band_mask = (freqs >= band_freqs[0]) & (freqs <= band_freqs[1])\n",
        "    band_coeffs = np.abs(coeffs[band_mask, :])  # Filtered wavelet coefficients\n",
        "    band_scales = scales[band_mask]  # Corresponding scales for this band\n",
        "\n",
        "    # Plot the scalogram for the given band\n",
        "    plt.figure(figsize=(10, 6))\n",
        "    plt.imshow(band_coeffs, extent=[0, len(signal), band_scales[0], band_scales[-1]], cmap='jet', aspect='auto')\n",
        "    plt.colorbar(label='Magnitude')\n",
        "    plt.title(f'Scalogram (CWT) - {band_name} Band ({band_freqs[0]}-{band_freqs[1]} Hz)')\n",
        "    plt.xlabel('Time')\n",
        "    plt.ylabel('Scale')\n",
        "    plt.show()\n",
        "\n",
        "# Select one epoch and one channel (example: first epoch, first channel)\n",
        "epoch_data = epochs.get_data()[0]  # First epoch\n",
        "channel_signal = epoch_data[0]  # First channel in the epoch\n",
        "\n",
        "# Define wavelet scales and perform CWT\n",
        "scales = np.arange(1, 128)\n",
        "coeffs, freqs = pywt.cwt(channel_signal, scales, 'morl', sampling_period=1/samplingFreq)\n",
        "\n",
        "# Plot scalograms for each frequency band\n",
        "for band_name, band_freqs in freq_bands.items():\n",
        "    plot_scalogram_for_band(channel_signal, scales, freqs, band_name, band_freqs)"
      ]
    }
  ],
  "metadata": {
    "accelerator": "GPU",
    "colab": {
      "gpuType": "T4",
      "provenance": [],
      "include_colab_link": true
    },
    "kernelspec": {
      "display_name": "Python 3",
      "name": "python3"
    },
    "language_info": {
      "name": "python"
    }
  },
  "nbformat": 4,
  "nbformat_minor": 0
}